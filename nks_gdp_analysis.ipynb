{
 "cells": [
  {
   "cell_type": "code",
   "execution_count": 1,
   "metadata": {},
   "outputs": [],
   "source": [
    "import pandas as pd\n",
    "import numpy as np\n",
    "import matplotlib.pyplot as plt"
   ]
  },
  {
   "cell_type": "code",
   "execution_count": 2,
   "metadata": {},
   "outputs": [
    {
     "data": {
      "text/html": [
       "<div>\n",
       "<style scoped>\n",
       "    .dataframe tbody tr th:only-of-type {\n",
       "        vertical-align: middle;\n",
       "    }\n",
       "\n",
       "    .dataframe tbody tr th {\n",
       "        vertical-align: top;\n",
       "    }\n",
       "\n",
       "    .dataframe thead th {\n",
       "        text-align: right;\n",
       "    }\n",
       "</style>\n",
       "<table border=\"1\" class=\"dataframe\">\n",
       "  <thead>\n",
       "    <tr style=\"text-align: right;\">\n",
       "      <th></th>\n",
       "      <th>Unnamed: 0</th>\n",
       "      <th>Country</th>\n",
       "      <th>Region</th>\n",
       "      <th>Happiness2015</th>\n",
       "      <th>GDP2015</th>\n",
       "      <th>Freedom2015</th>\n",
       "      <th>Generosity2015</th>\n",
       "      <th>Year2015</th>\n",
       "      <th>Corruption2015</th>\n",
       "      <th>Happiness2016</th>\n",
       "      <th>...</th>\n",
       "      <th>Freedom2020</th>\n",
       "      <th>Generosity2020</th>\n",
       "      <th>Year2020</th>\n",
       "      <th>Corruption2020</th>\n",
       "      <th>Happiness2021</th>\n",
       "      <th>GDP2021</th>\n",
       "      <th>Freedom2021</th>\n",
       "      <th>Generosity2021</th>\n",
       "      <th>Year2021</th>\n",
       "      <th>Corruption2021</th>\n",
       "    </tr>\n",
       "  </thead>\n",
       "  <tbody>\n",
       "    <tr>\n",
       "      <th>0</th>\n",
       "      <td>0</td>\n",
       "      <td>Switzerland</td>\n",
       "      <td>Western Europe</td>\n",
       "      <td>7.587</td>\n",
       "      <td>1.39651</td>\n",
       "      <td>0.66557</td>\n",
       "      <td>0.29678</td>\n",
       "      <td>2015</td>\n",
       "      <td>0.41978</td>\n",
       "      <td>7.509</td>\n",
       "      <td>...</td>\n",
       "      <td>0.921337</td>\n",
       "      <td>0.269056</td>\n",
       "      <td>2020</td>\n",
       "      <td>0.303728</td>\n",
       "      <td>7.571</td>\n",
       "      <td>1.566</td>\n",
       "      <td>0.919</td>\n",
       "      <td>0.204</td>\n",
       "      <td>2021</td>\n",
       "      <td>0.292</td>\n",
       "    </tr>\n",
       "    <tr>\n",
       "      <th>1</th>\n",
       "      <td>1</td>\n",
       "      <td>Iceland</td>\n",
       "      <td>Western Europe</td>\n",
       "      <td>7.561</td>\n",
       "      <td>1.30232</td>\n",
       "      <td>0.62877</td>\n",
       "      <td>0.43630</td>\n",
       "      <td>2015</td>\n",
       "      <td>0.14145</td>\n",
       "      <td>7.501</td>\n",
       "      <td>...</td>\n",
       "      <td>0.948892</td>\n",
       "      <td>0.362330</td>\n",
       "      <td>2020</td>\n",
       "      <td>0.711710</td>\n",
       "      <td>7.554</td>\n",
       "      <td>1.482</td>\n",
       "      <td>0.955</td>\n",
       "      <td>0.293</td>\n",
       "      <td>2021</td>\n",
       "      <td>0.673</td>\n",
       "    </tr>\n",
       "    <tr>\n",
       "      <th>2</th>\n",
       "      <td>2</td>\n",
       "      <td>Denmark</td>\n",
       "      <td>Western Europe</td>\n",
       "      <td>7.527</td>\n",
       "      <td>1.32548</td>\n",
       "      <td>0.64938</td>\n",
       "      <td>0.34139</td>\n",
       "      <td>2015</td>\n",
       "      <td>0.48357</td>\n",
       "      <td>7.526</td>\n",
       "      <td>...</td>\n",
       "      <td>0.951444</td>\n",
       "      <td>0.242793</td>\n",
       "      <td>2020</td>\n",
       "      <td>0.168489</td>\n",
       "      <td>7.620</td>\n",
       "      <td>1.502</td>\n",
       "      <td>0.946</td>\n",
       "      <td>0.208</td>\n",
       "      <td>2021</td>\n",
       "      <td>0.179</td>\n",
       "    </tr>\n",
       "  </tbody>\n",
       "</table>\n",
       "<p>3 rows × 45 columns</p>\n",
       "</div>"
      ],
      "text/plain": [
       "   Unnamed: 0      Country          Region  Happiness2015  GDP2015  \\\n",
       "0           0  Switzerland  Western Europe          7.587  1.39651   \n",
       "1           1      Iceland  Western Europe          7.561  1.30232   \n",
       "2           2      Denmark  Western Europe          7.527  1.32548   \n",
       "\n",
       "   Freedom2015  Generosity2015  Year2015  Corruption2015  Happiness2016  ...  \\\n",
       "0      0.66557         0.29678      2015         0.41978          7.509  ...   \n",
       "1      0.62877         0.43630      2015         0.14145          7.501  ...   \n",
       "2      0.64938         0.34139      2015         0.48357          7.526  ...   \n",
       "\n",
       "   Freedom2020  Generosity2020  Year2020  Corruption2020  Happiness2021  \\\n",
       "0     0.921337        0.269056      2020        0.303728          7.571   \n",
       "1     0.948892        0.362330      2020        0.711710          7.554   \n",
       "2     0.951444        0.242793      2020        0.168489          7.620   \n",
       "\n",
       "   GDP2021  Freedom2021  Generosity2021  Year2021  Corruption2021  \n",
       "0    1.566        0.919           0.204      2021           0.292  \n",
       "1    1.482        0.955           0.293      2021           0.673  \n",
       "2    1.502        0.946           0.208      2021           0.179  \n",
       "\n",
       "[3 rows x 45 columns]"
      ]
     },
     "execution_count": 2,
     "metadata": {},
     "output_type": "execute_result"
    }
   ],
   "source": [
    "df= pd.read_csv(\"Data/Clean Data/HappynessCleanDataFinal.csv\")\n",
    "df.head(3) # Everything is in there \n",
    "\n",
    "# 1. happiness  base\n",
    "# 2. GDP  Enkhsanaa\n",
    "# 3. Region Tamara \n",
    "# 4. generosity Matteo\n",
    "# 5. cortuption Samson\n",
    "# 6. Freedom Andy \n"
   ]
  },
  {
   "cell_type": "code",
   "execution_count": 3,
   "metadata": {},
   "outputs": [
    {
     "data": {
      "text/plain": [
       "Index(['Unnamed: 0', 'Country', 'Region', 'Happiness2015', 'GDP2015',\n",
       "       'Freedom2015', 'Generosity2015', 'Year2015', 'Corruption2015',\n",
       "       'Happiness2016', 'GDP2016', 'Freedom2016', 'Generosity2016', 'Year2016',\n",
       "       'Corruption2016', 'Happiness2017', 'GDP2017', 'Freedom2017',\n",
       "       'Generosity2017', 'Year2017', 'Corruption2017', 'Happiness2018',\n",
       "       'GDP2018', 'Freedom2018', 'Generosity2018', 'Year2018',\n",
       "       'Corruption2018', 'Happiness2019', 'GDP2019', 'Freedom2019',\n",
       "       'Generosity2019', 'Year2019', 'Corruption2019', 'Happiness2020',\n",
       "       'GDP2020', 'Freedom2020', 'Generosity2020', 'Year2020',\n",
       "       'Corruption2020', 'Happiness2021', 'GDP2021', 'Freedom2021',\n",
       "       'Generosity2021', 'Year2021', 'Corruption2021'],\n",
       "      dtype='object')"
      ]
     },
     "execution_count": 3,
     "metadata": {},
     "output_type": "execute_result"
    }
   ],
   "source": [
    "df.columns\n"
   ]
  },
  {
   "cell_type": "code",
   "execution_count": 4,
   "metadata": {},
   "outputs": [
    {
     "data": {
      "text/html": [
       "<div>\n",
       "<style scoped>\n",
       "    .dataframe tbody tr th:only-of-type {\n",
       "        vertical-align: middle;\n",
       "    }\n",
       "\n",
       "    .dataframe tbody tr th {\n",
       "        vertical-align: top;\n",
       "    }\n",
       "\n",
       "    .dataframe thead th {\n",
       "        text-align: right;\n",
       "    }\n",
       "</style>\n",
       "<table border=\"1\" class=\"dataframe\">\n",
       "  <thead>\n",
       "    <tr style=\"text-align: right;\">\n",
       "      <th></th>\n",
       "      <th>Country</th>\n",
       "      <th>Region</th>\n",
       "      <th>GDP2015</th>\n",
       "      <th>GDP2016</th>\n",
       "      <th>GDP2017</th>\n",
       "      <th>GDP2018</th>\n",
       "      <th>GDP2019</th>\n",
       "      <th>GDP2020</th>\n",
       "      <th>GDP2021</th>\n",
       "    </tr>\n",
       "  </thead>\n",
       "  <tbody>\n",
       "    <tr>\n",
       "      <th>0</th>\n",
       "      <td>Switzerland</td>\n",
       "      <td>Western Europe</td>\n",
       "      <td>1.39651</td>\n",
       "      <td>1.52733</td>\n",
       "      <td>1.564980</td>\n",
       "      <td>1.420</td>\n",
       "      <td>1.452</td>\n",
       "      <td>1.390774</td>\n",
       "      <td>1.566</td>\n",
       "    </tr>\n",
       "    <tr>\n",
       "      <th>1</th>\n",
       "      <td>Iceland</td>\n",
       "      <td>Western Europe</td>\n",
       "      <td>1.30232</td>\n",
       "      <td>1.42666</td>\n",
       "      <td>1.480633</td>\n",
       "      <td>1.343</td>\n",
       "      <td>1.380</td>\n",
       "      <td>1.326502</td>\n",
       "      <td>1.482</td>\n",
       "    </tr>\n",
       "    <tr>\n",
       "      <th>2</th>\n",
       "      <td>Denmark</td>\n",
       "      <td>Western Europe</td>\n",
       "      <td>1.32548</td>\n",
       "      <td>1.44178</td>\n",
       "      <td>1.482383</td>\n",
       "      <td>1.351</td>\n",
       "      <td>1.383</td>\n",
       "      <td>1.326949</td>\n",
       "      <td>1.502</td>\n",
       "    </tr>\n",
       "  </tbody>\n",
       "</table>\n",
       "</div>"
      ],
      "text/plain": [
       "       Country          Region  GDP2015  GDP2016   GDP2017  GDP2018  GDP2019  \\\n",
       "0  Switzerland  Western Europe  1.39651  1.52733  1.564980    1.420    1.452   \n",
       "1      Iceland  Western Europe  1.30232  1.42666  1.480633    1.343    1.380   \n",
       "2      Denmark  Western Europe  1.32548  1.44178  1.482383    1.351    1.383   \n",
       "\n",
       "    GDP2020  GDP2021  \n",
       "0  1.390774    1.566  \n",
       "1  1.326502    1.482  \n",
       "2  1.326949    1.502  "
      ]
     },
     "execution_count": 4,
     "metadata": {},
     "output_type": "execute_result"
    }
   ],
   "source": [
    "# this is extraction of GDP only \n",
    "gdp_df = df[[\"Country\",\"Region\",\"GDP2015\",\"GDP2016\",\"GDP2017\",\"GDP2018\",\"GDP2019\",\"GDP2020\",\"GDP2021\"]]\n",
    "gdp_df.head(3)"
   ]
  },
  {
   "cell_type": "code",
   "execution_count": 5,
   "metadata": {},
   "outputs": [
    {
     "data": {
      "text/html": [
       "<div>\n",
       "<style scoped>\n",
       "    .dataframe tbody tr th:only-of-type {\n",
       "        vertical-align: middle;\n",
       "    }\n",
       "\n",
       "    .dataframe tbody tr th {\n",
       "        vertical-align: top;\n",
       "    }\n",
       "\n",
       "    .dataframe thead th {\n",
       "        text-align: right;\n",
       "    }\n",
       "</style>\n",
       "<table border=\"1\" class=\"dataframe\">\n",
       "  <thead>\n",
       "    <tr style=\"text-align: right;\">\n",
       "      <th></th>\n",
       "      <th>Country</th>\n",
       "      <th>Region</th>\n",
       "      <th>Happiness2015</th>\n",
       "      <th>Happiness2016</th>\n",
       "      <th>Happiness2017</th>\n",
       "      <th>Happiness2018</th>\n",
       "      <th>Happiness2019</th>\n",
       "      <th>Happiness2020</th>\n",
       "      <th>Happiness2021</th>\n",
       "    </tr>\n",
       "  </thead>\n",
       "  <tbody>\n",
       "    <tr>\n",
       "      <th>0</th>\n",
       "      <td>Switzerland</td>\n",
       "      <td>Western Europe</td>\n",
       "      <td>7.587</td>\n",
       "      <td>7.509</td>\n",
       "      <td>7.494</td>\n",
       "      <td>7.487</td>\n",
       "      <td>7.480</td>\n",
       "      <td>7.5599</td>\n",
       "      <td>7.571</td>\n",
       "    </tr>\n",
       "    <tr>\n",
       "      <th>1</th>\n",
       "      <td>Iceland</td>\n",
       "      <td>Western Europe</td>\n",
       "      <td>7.561</td>\n",
       "      <td>7.501</td>\n",
       "      <td>7.504</td>\n",
       "      <td>7.495</td>\n",
       "      <td>7.494</td>\n",
       "      <td>7.5045</td>\n",
       "      <td>7.554</td>\n",
       "    </tr>\n",
       "    <tr>\n",
       "      <th>2</th>\n",
       "      <td>Denmark</td>\n",
       "      <td>Western Europe</td>\n",
       "      <td>7.527</td>\n",
       "      <td>7.526</td>\n",
       "      <td>7.522</td>\n",
       "      <td>7.555</td>\n",
       "      <td>7.600</td>\n",
       "      <td>7.6456</td>\n",
       "      <td>7.620</td>\n",
       "    </tr>\n",
       "  </tbody>\n",
       "</table>\n",
       "</div>"
      ],
      "text/plain": [
       "       Country          Region  Happiness2015  Happiness2016  Happiness2017  \\\n",
       "0  Switzerland  Western Europe          7.587          7.509          7.494   \n",
       "1      Iceland  Western Europe          7.561          7.501          7.504   \n",
       "2      Denmark  Western Europe          7.527          7.526          7.522   \n",
       "\n",
       "   Happiness2018  Happiness2019  Happiness2020  Happiness2021  \n",
       "0          7.487          7.480         7.5599          7.571  \n",
       "1          7.495          7.494         7.5045          7.554  \n",
       "2          7.555          7.600         7.6456          7.620  "
      ]
     },
     "execution_count": 5,
     "metadata": {},
     "output_type": "execute_result"
    }
   ],
   "source": [
    "# this is extraction of happiness\n",
    "happiness_df = df[[\"Country\",\"Region\",\"Happiness2015\",\"Happiness2016\",\"Happiness2017\",\"Happiness2018\",\"Happiness2019\",\"Happiness2020\",\"Happiness2021\"]]\n",
    "happiness_df.head(3)\n"
   ]
  },
  {
   "cell_type": "code",
   "execution_count": 6,
   "metadata": {},
   "outputs": [],
   "source": [
    "combined_df = pd.merge(happiness_df, gdp_df, on =\"Country\")"
   ]
  },
  {
   "cell_type": "code",
   "execution_count": 7,
   "metadata": {},
   "outputs": [
    {
     "data": {
      "text/html": [
       "<div>\n",
       "<style scoped>\n",
       "    .dataframe tbody tr th:only-of-type {\n",
       "        vertical-align: middle;\n",
       "    }\n",
       "\n",
       "    .dataframe tbody tr th {\n",
       "        vertical-align: top;\n",
       "    }\n",
       "\n",
       "    .dataframe thead th {\n",
       "        text-align: right;\n",
       "    }\n",
       "</style>\n",
       "<table border=\"1\" class=\"dataframe\">\n",
       "  <thead>\n",
       "    <tr style=\"text-align: right;\">\n",
       "      <th></th>\n",
       "      <th>Country</th>\n",
       "      <th>Region_x</th>\n",
       "      <th>Happiness2015</th>\n",
       "      <th>Happiness2016</th>\n",
       "      <th>Happiness2017</th>\n",
       "      <th>Happiness2018</th>\n",
       "      <th>Happiness2019</th>\n",
       "      <th>Happiness2020</th>\n",
       "      <th>Happiness2021</th>\n",
       "      <th>Region_y</th>\n",
       "      <th>GDP2015</th>\n",
       "      <th>GDP2016</th>\n",
       "      <th>GDP2017</th>\n",
       "      <th>GDP2018</th>\n",
       "      <th>GDP2019</th>\n",
       "      <th>GDP2020</th>\n",
       "      <th>GDP2021</th>\n",
       "    </tr>\n",
       "  </thead>\n",
       "  <tbody>\n",
       "    <tr>\n",
       "      <th>0</th>\n",
       "      <td>Switzerland</td>\n",
       "      <td>Western Europe</td>\n",
       "      <td>7.587</td>\n",
       "      <td>7.509</td>\n",
       "      <td>7.494</td>\n",
       "      <td>7.487</td>\n",
       "      <td>7.480</td>\n",
       "      <td>7.5599</td>\n",
       "      <td>7.571</td>\n",
       "      <td>Western Europe</td>\n",
       "      <td>1.39651</td>\n",
       "      <td>1.52733</td>\n",
       "      <td>1.564980</td>\n",
       "      <td>1.420</td>\n",
       "      <td>1.452</td>\n",
       "      <td>1.390774</td>\n",
       "      <td>1.566</td>\n",
       "    </tr>\n",
       "    <tr>\n",
       "      <th>1</th>\n",
       "      <td>Iceland</td>\n",
       "      <td>Western Europe</td>\n",
       "      <td>7.561</td>\n",
       "      <td>7.501</td>\n",
       "      <td>7.504</td>\n",
       "      <td>7.495</td>\n",
       "      <td>7.494</td>\n",
       "      <td>7.5045</td>\n",
       "      <td>7.554</td>\n",
       "      <td>Western Europe</td>\n",
       "      <td>1.30232</td>\n",
       "      <td>1.42666</td>\n",
       "      <td>1.480633</td>\n",
       "      <td>1.343</td>\n",
       "      <td>1.380</td>\n",
       "      <td>1.326502</td>\n",
       "      <td>1.482</td>\n",
       "    </tr>\n",
       "    <tr>\n",
       "      <th>2</th>\n",
       "      <td>Denmark</td>\n",
       "      <td>Western Europe</td>\n",
       "      <td>7.527</td>\n",
       "      <td>7.526</td>\n",
       "      <td>7.522</td>\n",
       "      <td>7.555</td>\n",
       "      <td>7.600</td>\n",
       "      <td>7.6456</td>\n",
       "      <td>7.620</td>\n",
       "      <td>Western Europe</td>\n",
       "      <td>1.32548</td>\n",
       "      <td>1.44178</td>\n",
       "      <td>1.482383</td>\n",
       "      <td>1.351</td>\n",
       "      <td>1.383</td>\n",
       "      <td>1.326949</td>\n",
       "      <td>1.502</td>\n",
       "    </tr>\n",
       "  </tbody>\n",
       "</table>\n",
       "</div>"
      ],
      "text/plain": [
       "       Country        Region_x  Happiness2015  Happiness2016  Happiness2017  \\\n",
       "0  Switzerland  Western Europe          7.587          7.509          7.494   \n",
       "1      Iceland  Western Europe          7.561          7.501          7.504   \n",
       "2      Denmark  Western Europe          7.527          7.526          7.522   \n",
       "\n",
       "   Happiness2018  Happiness2019  Happiness2020  Happiness2021        Region_y  \\\n",
       "0          7.487          7.480         7.5599          7.571  Western Europe   \n",
       "1          7.495          7.494         7.5045          7.554  Western Europe   \n",
       "2          7.555          7.600         7.6456          7.620  Western Europe   \n",
       "\n",
       "   GDP2015  GDP2016   GDP2017  GDP2018  GDP2019   GDP2020  GDP2021  \n",
       "0  1.39651  1.52733  1.564980    1.420    1.452  1.390774    1.566  \n",
       "1  1.30232  1.42666  1.480633    1.343    1.380  1.326502    1.482  \n",
       "2  1.32548  1.44178  1.482383    1.351    1.383  1.326949    1.502  "
      ]
     },
     "execution_count": 7,
     "metadata": {},
     "output_type": "execute_result"
    }
   ],
   "source": [
    "combined_df.head(3)"
   ]
  },
  {
   "cell_type": "code",
   "execution_count": 8,
   "metadata": {},
   "outputs": [],
   "source": [
    "del combined_df[\"Region_y\"]"
   ]
  },
  {
   "cell_type": "code",
   "execution_count": 9,
   "metadata": {},
   "outputs": [
    {
     "data": {
      "text/html": [
       "<div>\n",
       "<style scoped>\n",
       "    .dataframe tbody tr th:only-of-type {\n",
       "        vertical-align: middle;\n",
       "    }\n",
       "\n",
       "    .dataframe tbody tr th {\n",
       "        vertical-align: top;\n",
       "    }\n",
       "\n",
       "    .dataframe thead th {\n",
       "        text-align: right;\n",
       "    }\n",
       "</style>\n",
       "<table border=\"1\" class=\"dataframe\">\n",
       "  <thead>\n",
       "    <tr style=\"text-align: right;\">\n",
       "      <th></th>\n",
       "      <th>Country</th>\n",
       "      <th>Region_x</th>\n",
       "      <th>Happiness2015</th>\n",
       "      <th>Happiness2016</th>\n",
       "      <th>Happiness2017</th>\n",
       "      <th>Happiness2018</th>\n",
       "      <th>Happiness2019</th>\n",
       "      <th>Happiness2020</th>\n",
       "      <th>Happiness2021</th>\n",
       "      <th>GDP2015</th>\n",
       "      <th>GDP2016</th>\n",
       "      <th>GDP2017</th>\n",
       "      <th>GDP2018</th>\n",
       "      <th>GDP2019</th>\n",
       "      <th>GDP2020</th>\n",
       "      <th>GDP2021</th>\n",
       "    </tr>\n",
       "  </thead>\n",
       "  <tbody>\n",
       "    <tr>\n",
       "      <th>0</th>\n",
       "      <td>Switzerland</td>\n",
       "      <td>Western Europe</td>\n",
       "      <td>7.587</td>\n",
       "      <td>7.509</td>\n",
       "      <td>7.494</td>\n",
       "      <td>7.487</td>\n",
       "      <td>7.480</td>\n",
       "      <td>7.5599</td>\n",
       "      <td>7.571</td>\n",
       "      <td>1.39651</td>\n",
       "      <td>1.52733</td>\n",
       "      <td>1.564980</td>\n",
       "      <td>1.420</td>\n",
       "      <td>1.452</td>\n",
       "      <td>1.390774</td>\n",
       "      <td>1.566</td>\n",
       "    </tr>\n",
       "    <tr>\n",
       "      <th>1</th>\n",
       "      <td>Iceland</td>\n",
       "      <td>Western Europe</td>\n",
       "      <td>7.561</td>\n",
       "      <td>7.501</td>\n",
       "      <td>7.504</td>\n",
       "      <td>7.495</td>\n",
       "      <td>7.494</td>\n",
       "      <td>7.5045</td>\n",
       "      <td>7.554</td>\n",
       "      <td>1.30232</td>\n",
       "      <td>1.42666</td>\n",
       "      <td>1.480633</td>\n",
       "      <td>1.343</td>\n",
       "      <td>1.380</td>\n",
       "      <td>1.326502</td>\n",
       "      <td>1.482</td>\n",
       "    </tr>\n",
       "    <tr>\n",
       "      <th>2</th>\n",
       "      <td>Denmark</td>\n",
       "      <td>Western Europe</td>\n",
       "      <td>7.527</td>\n",
       "      <td>7.526</td>\n",
       "      <td>7.522</td>\n",
       "      <td>7.555</td>\n",
       "      <td>7.600</td>\n",
       "      <td>7.6456</td>\n",
       "      <td>7.620</td>\n",
       "      <td>1.32548</td>\n",
       "      <td>1.44178</td>\n",
       "      <td>1.482383</td>\n",
       "      <td>1.351</td>\n",
       "      <td>1.383</td>\n",
       "      <td>1.326949</td>\n",
       "      <td>1.502</td>\n",
       "    </tr>\n",
       "  </tbody>\n",
       "</table>\n",
       "</div>"
      ],
      "text/plain": [
       "       Country        Region_x  Happiness2015  Happiness2016  Happiness2017  \\\n",
       "0  Switzerland  Western Europe          7.587          7.509          7.494   \n",
       "1      Iceland  Western Europe          7.561          7.501          7.504   \n",
       "2      Denmark  Western Europe          7.527          7.526          7.522   \n",
       "\n",
       "   Happiness2018  Happiness2019  Happiness2020  Happiness2021  GDP2015  \\\n",
       "0          7.487          7.480         7.5599          7.571  1.39651   \n",
       "1          7.495          7.494         7.5045          7.554  1.30232   \n",
       "2          7.555          7.600         7.6456          7.620  1.32548   \n",
       "\n",
       "   GDP2016   GDP2017  GDP2018  GDP2019   GDP2020  GDP2021  \n",
       "0  1.52733  1.564980    1.420    1.452  1.390774    1.566  \n",
       "1  1.42666  1.480633    1.343    1.380  1.326502    1.482  \n",
       "2  1.44178  1.482383    1.351    1.383  1.326949    1.502  "
      ]
     },
     "execution_count": 9,
     "metadata": {},
     "output_type": "execute_result"
    }
   ],
   "source": [
    "combined_df.head(3)"
   ]
  },
  {
   "cell_type": "code",
   "execution_count": 10,
   "metadata": {},
   "outputs": [],
   "source": [
    "combined_df = combined_df.rename(columns = {\"Region_x\":\"Region\"})"
   ]
  },
  {
   "cell_type": "code",
   "execution_count": 11,
   "metadata": {},
   "outputs": [
    {
     "data": {
      "text/html": [
       "<div>\n",
       "<style scoped>\n",
       "    .dataframe tbody tr th:only-of-type {\n",
       "        vertical-align: middle;\n",
       "    }\n",
       "\n",
       "    .dataframe tbody tr th {\n",
       "        vertical-align: top;\n",
       "    }\n",
       "\n",
       "    .dataframe thead th {\n",
       "        text-align: right;\n",
       "    }\n",
       "</style>\n",
       "<table border=\"1\" class=\"dataframe\">\n",
       "  <thead>\n",
       "    <tr style=\"text-align: right;\">\n",
       "      <th></th>\n",
       "      <th>Country</th>\n",
       "      <th>Region</th>\n",
       "      <th>Happiness2015</th>\n",
       "      <th>Happiness2016</th>\n",
       "      <th>Happiness2017</th>\n",
       "      <th>Happiness2018</th>\n",
       "      <th>Happiness2019</th>\n",
       "      <th>Happiness2020</th>\n",
       "      <th>Happiness2021</th>\n",
       "      <th>GDP2015</th>\n",
       "      <th>GDP2016</th>\n",
       "      <th>GDP2017</th>\n",
       "      <th>GDP2018</th>\n",
       "      <th>GDP2019</th>\n",
       "      <th>GDP2020</th>\n",
       "      <th>GDP2021</th>\n",
       "    </tr>\n",
       "  </thead>\n",
       "  <tbody>\n",
       "    <tr>\n",
       "      <th>0</th>\n",
       "      <td>Switzerland</td>\n",
       "      <td>Western Europe</td>\n",
       "      <td>7.587</td>\n",
       "      <td>7.509</td>\n",
       "      <td>7.494</td>\n",
       "      <td>7.487</td>\n",
       "      <td>7.480</td>\n",
       "      <td>7.5599</td>\n",
       "      <td>7.571</td>\n",
       "      <td>1.39651</td>\n",
       "      <td>1.52733</td>\n",
       "      <td>1.564980</td>\n",
       "      <td>1.420</td>\n",
       "      <td>1.452</td>\n",
       "      <td>1.390774</td>\n",
       "      <td>1.566</td>\n",
       "    </tr>\n",
       "    <tr>\n",
       "      <th>1</th>\n",
       "      <td>Iceland</td>\n",
       "      <td>Western Europe</td>\n",
       "      <td>7.561</td>\n",
       "      <td>7.501</td>\n",
       "      <td>7.504</td>\n",
       "      <td>7.495</td>\n",
       "      <td>7.494</td>\n",
       "      <td>7.5045</td>\n",
       "      <td>7.554</td>\n",
       "      <td>1.30232</td>\n",
       "      <td>1.42666</td>\n",
       "      <td>1.480633</td>\n",
       "      <td>1.343</td>\n",
       "      <td>1.380</td>\n",
       "      <td>1.326502</td>\n",
       "      <td>1.482</td>\n",
       "    </tr>\n",
       "    <tr>\n",
       "      <th>2</th>\n",
       "      <td>Denmark</td>\n",
       "      <td>Western Europe</td>\n",
       "      <td>7.527</td>\n",
       "      <td>7.526</td>\n",
       "      <td>7.522</td>\n",
       "      <td>7.555</td>\n",
       "      <td>7.600</td>\n",
       "      <td>7.6456</td>\n",
       "      <td>7.620</td>\n",
       "      <td>1.32548</td>\n",
       "      <td>1.44178</td>\n",
       "      <td>1.482383</td>\n",
       "      <td>1.351</td>\n",
       "      <td>1.383</td>\n",
       "      <td>1.326949</td>\n",
       "      <td>1.502</td>\n",
       "    </tr>\n",
       "  </tbody>\n",
       "</table>\n",
       "</div>"
      ],
      "text/plain": [
       "       Country          Region  Happiness2015  Happiness2016  Happiness2017  \\\n",
       "0  Switzerland  Western Europe          7.587          7.509          7.494   \n",
       "1      Iceland  Western Europe          7.561          7.501          7.504   \n",
       "2      Denmark  Western Europe          7.527          7.526          7.522   \n",
       "\n",
       "   Happiness2018  Happiness2019  Happiness2020  Happiness2021  GDP2015  \\\n",
       "0          7.487          7.480         7.5599          7.571  1.39651   \n",
       "1          7.495          7.494         7.5045          7.554  1.30232   \n",
       "2          7.555          7.600         7.6456          7.620  1.32548   \n",
       "\n",
       "   GDP2016   GDP2017  GDP2018  GDP2019   GDP2020  GDP2021  \n",
       "0  1.52733  1.564980    1.420    1.452  1.390774    1.566  \n",
       "1  1.42666  1.480633    1.343    1.380  1.326502    1.482  \n",
       "2  1.44178  1.482383    1.351    1.383  1.326949    1.502  "
      ]
     },
     "execution_count": 11,
     "metadata": {},
     "output_type": "execute_result"
    }
   ],
   "source": [
    "combined_df.head(3)"
   ]
  },
  {
   "cell_type": "code",
   "execution_count": 12,
   "metadata": {},
   "outputs": [
    {
     "data": {
      "text/plain": [
       "GDP2015    0.858685\n",
       "GDP2016    0.961706\n",
       "GDP2017    1.000410\n",
       "GDP2018    0.903081\n",
       "GDP2019    0.927544\n",
       "GDP2020    0.885675\n",
       "GDP2021    0.981243\n",
       "dtype: float64"
      ]
     },
     "execution_count": 12,
     "metadata": {},
     "output_type": "execute_result"
    }
   ],
   "source": [
    "# average GDP is for the world\n",
    "world_ave_gdp_df= gdp_df.mean()\n",
    "world_ave_gdp_df"
   ]
  },
  {
   "cell_type": "code",
   "execution_count": 13,
   "metadata": {},
   "outputs": [
    {
     "data": {
      "text/plain": [
       "Happiness2015    5.412199\n",
       "Happiness2016    5.408949\n",
       "Happiness2017    5.417596\n",
       "Happiness2018    5.449449\n",
       "Happiness2019    5.494691\n",
       "Happiness2020    5.550569\n",
       "Happiness2021    5.576309\n",
       "dtype: float64"
      ]
     },
     "execution_count": 13,
     "metadata": {},
     "output_type": "execute_result"
    }
   ],
   "source": [
    "# average happiness for the world by year\n",
    "world_avg_happiness_df = happiness_df.mean()\n",
    "world_avg_happiness_df"
   ]
  },
  {
   "cell_type": "code",
   "execution_count": 14,
   "metadata": {},
   "outputs": [
    {
     "data": {
      "text/plain": [
       "Index(['GDP2015', 'GDP2016', 'GDP2017', 'GDP2018', 'GDP2019', 'GDP2020',\n",
       "       'GDP2021'],\n",
       "      dtype='object')"
      ]
     },
     "execution_count": 14,
     "metadata": {},
     "output_type": "execute_result"
    }
   ],
   "source": [
    "years = world_ave_gdp_df.keys()\n",
    "years"
   ]
  },
  {
   "cell_type": "code",
   "execution_count": 15,
   "metadata": {},
   "outputs": [],
   "source": [
    "happiness_df=happiness_df.set_index(\"Country\")"
   ]
  },
  {
   "cell_type": "code",
   "execution_count": 28,
   "metadata": {},
   "outputs": [
    {
     "data": {
      "text/plain": [
       "Text(14.25, 0.5, 'World mean')"
      ]
     },
     "execution_count": 28,
     "metadata": {},
     "output_type": "execute_result"
    },
    {
     "data": {
      "image/png": "[encoded data removed]",
      "text/plain": [
       "<Figure size 432x288 with 1 Axes>"
      ]
     },
     "metadata": {
      "needs_background": "light"
     },
     "output_type": "display_data"
    }
   ],
   "source": [
    "world_avg_happiness_df.plot(label=\"World Data\", rot=45)\n",
    "plt.tight_layout()\n",
    "plt.title(\"World Happiness Avereage over the Years \")\n",
    "plt.ylabel(\"World mean\")\n",
    "#country_one, = plt.plot(years,happiness_df.loc[\"Switzerland\",[\"Happiness2015\",\"Happiness2015\",\"Happiness2016\",\"Happiness2017\",\"Happiness2018\",\"Happiness2019\",\"Happiness2020\",\"Happiness2021\",]],\n",
    "                     #   color = 'green', label = happiness_df.loc['Switzerland',\"Country\"])\n",
    "# # combined_df.plotloc[\"Switzerland\", \"Happiness2015\":\"Happiness2021\"].plot(label = \"Switzerland\")"
   ]
  },
  {
   "cell_type": "code",
   "execution_count": 30,
   "metadata": {},
   "outputs": [
    {
     "data": {
      "text/plain": [
       "Text(20.625, 0.5, 'World mean of GDP')"
      ]
     },
     "execution_count": 30,
     "metadata": {},
     "output_type": "execute_result"
    },
    {
     "data": {
      "image/png": "[encoded data removed]",
      "text/plain": [
       "<Figure size 432x288 with 1 Axes>"
      ]
     },
     "metadata": {
      "needs_background": "light"
     },
     "output_type": "display_data"
    }
   ],
   "source": [
    "world_ave_gdp_df.plot(label=\"World GDP Data\", rot=45)\n",
    "plt.tight_layout()\n",
    "plt.title(\"World Happiness Avereage over the Years \")\n",
    "plt.ylabel(\"World mean of GDP\")\n"
   ]
  },
  {
   "cell_type": "code",
   "execution_count": 17,
   "metadata": {},
   "outputs": [],
   "source": [
    "# mult_plot = combined_df.plot(kind= \"bar\", figsize=(20,5))\n",
    "# mult_plot.set_xticklabels(combined_df[\"Region\"], rotation = 90)\n",
    "\n",
    "# plt.show()\n",
    "# plt.tight_layout()"
   ]
  },
  {
   "cell_type": "code",
   "execution_count": 18,
   "metadata": {},
   "outputs": [],
   "source": [
    "grouped_by_region = combined_df.groupby([\"Region\"])"
   ]
  },
  {
   "cell_type": "code",
   "execution_count": 19,
   "metadata": {},
   "outputs": [
    {
     "data": {
      "text/plain": [
       "Region\n",
       "Australia and New Zealand           2\n",
       "Central and Eastern Europe         28\n",
       "Eastern Asia                        4\n",
       "Latin America and Caribbean        20\n",
       "Middle East and Northern Africa    16\n",
       "North America                       2\n",
       "Southeastern Asia                   8\n",
       "Southern Asia                       6\n",
       "Sub-Saharan Africa                 30\n",
       "Western Europe                     20\n",
       "Name: Region, dtype: int64"
      ]
     },
     "execution_count": 19,
     "metadata": {},
     "output_type": "execute_result"
    }
   ],
   "source": [
    "count_regions = grouped_by_region[\"Region\"].count()\n",
    "count_regions"
   ]
  },
  {
   "cell_type": "code",
   "execution_count": 20,
   "metadata": {},
   "outputs": [
    {
     "data": {
      "image/png": "[encoded data removed]",
      "text/plain": [
       "<Figure size 432x288 with 1 Axes>"
      ]
     },
     "metadata": {},
     "output_type": "display_data"
    }
   ],
   "source": [
    "region_chart = count_regions.plot(kind = 'pie', autopct=\"%1.2f%%\")\n",
    "plt.axis(\"equal\")\n",
    "plt.show()\n"
   ]
  },
  {
   "cell_type": "code",
   "execution_count": 21,
   "metadata": {},
   "outputs": [
    {
     "data": {
      "text/plain": [
       "count    7.000000\n",
       "mean     0.931192\n",
       "std      0.052218\n",
       "min      0.858685\n",
       "25%      0.894378\n",
       "50%      0.927544\n",
       "75%      0.971475\n",
       "max      1.000410\n",
       "dtype: float64"
      ]
     },
     "execution_count": 21,
     "metadata": {},
     "output_type": "execute_result"
    }
   ],
   "source": [
    "world_ave_gdp_df.describe()"
   ]
  },
  {
   "cell_type": "code",
   "execution_count": null,
   "metadata": {},
   "outputs": [],
   "source": []
  },
  {
   "cell_type": "code",
   "execution_count": null,
   "metadata": {},
   "outputs": [],
   "source": []
  },
  {
   "cell_type": "code",
   "execution_count": null,
   "metadata": {},
   "outputs": [],
   "source": []
  }
 ],
 "metadata": {
  "kernelspec": {
   "display_name": "Python 3",
   "language": "python",
   "name": "python3"
  },
  "language_info": {
   "codemirror_mode": {
    "name": "ipython",
    "version": 3
   },
   "file_extension": ".py",
   "mimetype": "text/x-python",
   "name": "python",
   "nbconvert_exporter": "python",
   "pygments_lexer": "ipython3",
   "version": "3.6.10"
  }
 },
 "nbformat": 4,
 "nbformat_minor": 4
}
