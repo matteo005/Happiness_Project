{
 "cells": [
  {
   "cell_type": "code",
   "execution_count": 1,
   "metadata": {},
   "outputs": [],
   "source": [
    "import pandas as pd\n",
    "import numpy as np\n",
    "import matplotlib.pyplot as plt\n",
    "import scipy.stats as stats"
   ]
  },
  {
   "cell_type": "code",
   "execution_count": 2,
   "metadata": {},
   "outputs": [
    {
     "data": {
      "text/html": [
       "<div>\n",
       "<style scoped>\n",
       "    .dataframe tbody tr th:only-of-type {\n",
       "        vertical-align: middle;\n",
       "    }\n",
       "\n",
       "    .dataframe tbody tr th {\n",
       "        vertical-align: top;\n",
       "    }\n",
       "\n",
       "    .dataframe thead th {\n",
       "        text-align: right;\n",
       "    }\n",
       "</style>\n",
       "<table border=\"1\" class=\"dataframe\">\n",
       "  <thead>\n",
       "    <tr style=\"text-align: right;\">\n",
       "      <th></th>\n",
       "      <th>Country</th>\n",
       "      <th>Region</th>\n",
       "      <th>Happiness2015</th>\n",
       "      <th>GDP2015</th>\n",
       "      <th>Freedom2015</th>\n",
       "      <th>Generosity2015</th>\n",
       "      <th>Year2015</th>\n",
       "      <th>Corruption2015</th>\n",
       "      <th>Happiness2016</th>\n",
       "      <th>GDP2016</th>\n",
       "      <th>...</th>\n",
       "      <th>Freedom2020</th>\n",
       "      <th>Generosity2020</th>\n",
       "      <th>Year2020</th>\n",
       "      <th>Corruption2020</th>\n",
       "      <th>Happiness2021</th>\n",
       "      <th>GDP2021</th>\n",
       "      <th>Freedom2021</th>\n",
       "      <th>Generosity2021</th>\n",
       "      <th>Year2021</th>\n",
       "      <th>Corruption2021</th>\n",
       "    </tr>\n",
       "  </thead>\n",
       "  <tbody>\n",
       "    <tr>\n",
       "      <th>0</th>\n",
       "      <td>Switzerland</td>\n",
       "      <td>Western Europe</td>\n",
       "      <td>7.587</td>\n",
       "      <td>1.39651</td>\n",
       "      <td>0.66557</td>\n",
       "      <td>0.29678</td>\n",
       "      <td>2015</td>\n",
       "      <td>0.41978</td>\n",
       "      <td>7.509</td>\n",
       "      <td>1.52733</td>\n",
       "      <td>...</td>\n",
       "      <td>0.921337</td>\n",
       "      <td>0.269056</td>\n",
       "      <td>2020</td>\n",
       "      <td>0.303728</td>\n",
       "      <td>7.571</td>\n",
       "      <td>1.566</td>\n",
       "      <td>0.919</td>\n",
       "      <td>0.204</td>\n",
       "      <td>2021</td>\n",
       "      <td>0.292</td>\n",
       "    </tr>\n",
       "    <tr>\n",
       "      <th>1</th>\n",
       "      <td>Iceland</td>\n",
       "      <td>Western Europe</td>\n",
       "      <td>7.561</td>\n",
       "      <td>1.30232</td>\n",
       "      <td>0.62877</td>\n",
       "      <td>0.43630</td>\n",
       "      <td>2015</td>\n",
       "      <td>0.14145</td>\n",
       "      <td>7.501</td>\n",
       "      <td>1.42666</td>\n",
       "      <td>...</td>\n",
       "      <td>0.948892</td>\n",
       "      <td>0.362330</td>\n",
       "      <td>2020</td>\n",
       "      <td>0.711710</td>\n",
       "      <td>7.554</td>\n",
       "      <td>1.482</td>\n",
       "      <td>0.955</td>\n",
       "      <td>0.293</td>\n",
       "      <td>2021</td>\n",
       "      <td>0.673</td>\n",
       "    </tr>\n",
       "    <tr>\n",
       "      <th>2</th>\n",
       "      <td>Denmark</td>\n",
       "      <td>Western Europe</td>\n",
       "      <td>7.527</td>\n",
       "      <td>1.32548</td>\n",
       "      <td>0.64938</td>\n",
       "      <td>0.34139</td>\n",
       "      <td>2015</td>\n",
       "      <td>0.48357</td>\n",
       "      <td>7.526</td>\n",
       "      <td>1.44178</td>\n",
       "      <td>...</td>\n",
       "      <td>0.951444</td>\n",
       "      <td>0.242793</td>\n",
       "      <td>2020</td>\n",
       "      <td>0.168489</td>\n",
       "      <td>7.620</td>\n",
       "      <td>1.502</td>\n",
       "      <td>0.946</td>\n",
       "      <td>0.208</td>\n",
       "      <td>2021</td>\n",
       "      <td>0.179</td>\n",
       "    </tr>\n",
       "    <tr>\n",
       "      <th>3</th>\n",
       "      <td>Norway</td>\n",
       "      <td>Western Europe</td>\n",
       "      <td>7.522</td>\n",
       "      <td>1.45900</td>\n",
       "      <td>0.66973</td>\n",
       "      <td>0.34699</td>\n",
       "      <td>2015</td>\n",
       "      <td>0.36503</td>\n",
       "      <td>7.498</td>\n",
       "      <td>1.57744</td>\n",
       "      <td>...</td>\n",
       "      <td>0.955750</td>\n",
       "      <td>0.287985</td>\n",
       "      <td>2020</td>\n",
       "      <td>0.263218</td>\n",
       "      <td>7.392</td>\n",
       "      <td>1.543</td>\n",
       "      <td>0.960</td>\n",
       "      <td>0.249</td>\n",
       "      <td>2021</td>\n",
       "      <td>0.270</td>\n",
       "    </tr>\n",
       "    <tr>\n",
       "      <th>4</th>\n",
       "      <td>Canada</td>\n",
       "      <td>North America</td>\n",
       "      <td>7.427</td>\n",
       "      <td>1.32629</td>\n",
       "      <td>0.63297</td>\n",
       "      <td>0.45811</td>\n",
       "      <td>2015</td>\n",
       "      <td>0.32957</td>\n",
       "      <td>7.404</td>\n",
       "      <td>1.44015</td>\n",
       "      <td>...</td>\n",
       "      <td>0.933913</td>\n",
       "      <td>0.281529</td>\n",
       "      <td>2020</td>\n",
       "      <td>0.390843</td>\n",
       "      <td>7.103</td>\n",
       "      <td>1.447</td>\n",
       "      <td>0.915</td>\n",
       "      <td>0.246</td>\n",
       "      <td>2021</td>\n",
       "      <td>0.415</td>\n",
       "    </tr>\n",
       "    <tr>\n",
       "      <th>...</th>\n",
       "      <td>...</td>\n",
       "      <td>...</td>\n",
       "      <td>...</td>\n",
       "      <td>...</td>\n",
       "      <td>...</td>\n",
       "      <td>...</td>\n",
       "      <td>...</td>\n",
       "      <td>...</td>\n",
       "      <td>...</td>\n",
       "      <td>...</td>\n",
       "      <td>...</td>\n",
       "      <td>...</td>\n",
       "      <td>...</td>\n",
       "      <td>...</td>\n",
       "      <td>...</td>\n",
       "      <td>...</td>\n",
       "      <td>...</td>\n",
       "      <td>...</td>\n",
       "      <td>...</td>\n",
       "      <td>...</td>\n",
       "      <td>...</td>\n",
       "    </tr>\n",
       "    <tr>\n",
       "      <th>131</th>\n",
       "      <td>Afghanistan</td>\n",
       "      <td>Southern Asia</td>\n",
       "      <td>3.575</td>\n",
       "      <td>0.31982</td>\n",
       "      <td>0.23414</td>\n",
       "      <td>0.36510</td>\n",
       "      <td>2015</td>\n",
       "      <td>0.09719</td>\n",
       "      <td>3.360</td>\n",
       "      <td>0.38227</td>\n",
       "      <td>...</td>\n",
       "      <td>0.396573</td>\n",
       "      <td>0.135235</td>\n",
       "      <td>2020</td>\n",
       "      <td>0.933687</td>\n",
       "      <td>2.523</td>\n",
       "      <td>0.370</td>\n",
       "      <td>0.382</td>\n",
       "      <td>0.122</td>\n",
       "      <td>2021</td>\n",
       "      <td>0.924</td>\n",
       "    </tr>\n",
       "    <tr>\n",
       "      <th>132</th>\n",
       "      <td>Rwanda</td>\n",
       "      <td>Sub-Saharan Africa</td>\n",
       "      <td>3.465</td>\n",
       "      <td>0.22208</td>\n",
       "      <td>0.59201</td>\n",
       "      <td>0.22628</td>\n",
       "      <td>2015</td>\n",
       "      <td>0.55191</td>\n",
       "      <td>3.515</td>\n",
       "      <td>0.32846</td>\n",
       "      <td>...</td>\n",
       "      <td>0.900589</td>\n",
       "      <td>0.235705</td>\n",
       "      <td>2020</td>\n",
       "      <td>0.183541</td>\n",
       "      <td>3.415</td>\n",
       "      <td>0.364</td>\n",
       "      <td>0.897</td>\n",
       "      <td>0.227</td>\n",
       "      <td>2021</td>\n",
       "      <td>0.167</td>\n",
       "    </tr>\n",
       "    <tr>\n",
       "      <th>133</th>\n",
       "      <td>Benin</td>\n",
       "      <td>Sub-Saharan Africa</td>\n",
       "      <td>3.340</td>\n",
       "      <td>0.28665</td>\n",
       "      <td>0.48450</td>\n",
       "      <td>0.18260</td>\n",
       "      <td>2015</td>\n",
       "      <td>0.08010</td>\n",
       "      <td>3.484</td>\n",
       "      <td>0.39499</td>\n",
       "      <td>...</td>\n",
       "      <td>0.735183</td>\n",
       "      <td>0.196670</td>\n",
       "      <td>2020</td>\n",
       "      <td>0.740533</td>\n",
       "      <td>5.045</td>\n",
       "      <td>0.507</td>\n",
       "      <td>0.757</td>\n",
       "      <td>0.166</td>\n",
       "      <td>2021</td>\n",
       "      <td>0.661</td>\n",
       "    </tr>\n",
       "    <tr>\n",
       "      <th>134</th>\n",
       "      <td>Burundi</td>\n",
       "      <td>Sub-Saharan Africa</td>\n",
       "      <td>2.905</td>\n",
       "      <td>0.01530</td>\n",
       "      <td>0.11850</td>\n",
       "      <td>0.19727</td>\n",
       "      <td>2015</td>\n",
       "      <td>0.10062</td>\n",
       "      <td>2.905</td>\n",
       "      <td>0.06831</td>\n",
       "      <td>...</td>\n",
       "      <td>0.626350</td>\n",
       "      <td>0.187402</td>\n",
       "      <td>2020</td>\n",
       "      <td>0.606935</td>\n",
       "      <td>3.775</td>\n",
       "      <td>0.000</td>\n",
       "      <td>0.626</td>\n",
       "      <td>0.172</td>\n",
       "      <td>2021</td>\n",
       "      <td>0.607</td>\n",
       "    </tr>\n",
       "    <tr>\n",
       "      <th>135</th>\n",
       "      <td>Togo</td>\n",
       "      <td>Sub-Saharan Africa</td>\n",
       "      <td>2.839</td>\n",
       "      <td>0.20868</td>\n",
       "      <td>0.36453</td>\n",
       "      <td>0.16681</td>\n",
       "      <td>2015</td>\n",
       "      <td>0.10731</td>\n",
       "      <td>3.303</td>\n",
       "      <td>0.28123</td>\n",
       "      <td>...</td>\n",
       "      <td>0.649829</td>\n",
       "      <td>0.200774</td>\n",
       "      <td>2020</td>\n",
       "      <td>0.757733</td>\n",
       "      <td>4.107</td>\n",
       "      <td>0.254</td>\n",
       "      <td>0.619</td>\n",
       "      <td>0.209</td>\n",
       "      <td>2021</td>\n",
       "      <td>0.772</td>\n",
       "    </tr>\n",
       "  </tbody>\n",
       "</table>\n",
       "<p>136 rows × 44 columns</p>\n",
       "</div>"
      ],
      "text/plain": [
       "         Country              Region  Happiness2015  GDP2015  Freedom2015  \\\n",
       "0    Switzerland      Western Europe          7.587  1.39651      0.66557   \n",
       "1        Iceland      Western Europe          7.561  1.30232      0.62877   \n",
       "2        Denmark      Western Europe          7.527  1.32548      0.64938   \n",
       "3         Norway      Western Europe          7.522  1.45900      0.66973   \n",
       "4         Canada       North America          7.427  1.32629      0.63297   \n",
       "..           ...                 ...            ...      ...          ...   \n",
       "131  Afghanistan       Southern Asia          3.575  0.31982      0.23414   \n",
       "132       Rwanda  Sub-Saharan Africa          3.465  0.22208      0.59201   \n",
       "133        Benin  Sub-Saharan Africa          3.340  0.28665      0.48450   \n",
       "134      Burundi  Sub-Saharan Africa          2.905  0.01530      0.11850   \n",
       "135         Togo  Sub-Saharan Africa          2.839  0.20868      0.36453   \n",
       "\n",
       "     Generosity2015  Year2015  Corruption2015  Happiness2016  GDP2016  ...  \\\n",
       "0           0.29678      2015         0.41978          7.509  1.52733  ...   \n",
       "1           0.43630      2015         0.14145          7.501  1.42666  ...   \n",
       "2           0.34139      2015         0.48357          7.526  1.44178  ...   \n",
       "3           0.34699      2015         0.36503          7.498  1.57744  ...   \n",
       "4           0.45811      2015         0.32957          7.404  1.44015  ...   \n",
       "..              ...       ...             ...            ...      ...  ...   \n",
       "131         0.36510      2015         0.09719          3.360  0.38227  ...   \n",
       "132         0.22628      2015         0.55191          3.515  0.32846  ...   \n",
       "133         0.18260      2015         0.08010          3.484  0.39499  ...   \n",
       "134         0.19727      2015         0.10062          2.905  0.06831  ...   \n",
       "135         0.16681      2015         0.10731          3.303  0.28123  ...   \n",
       "\n",
       "     Freedom2020  Generosity2020  Year2020  Corruption2020  Happiness2021  \\\n",
       "0       0.921337        0.269056      2020        0.303728          7.571   \n",
       "1       0.948892        0.362330      2020        0.711710          7.554   \n",
       "2       0.951444        0.242793      2020        0.168489          7.620   \n",
       "3       0.955750        0.287985      2020        0.263218          7.392   \n",
       "4       0.933913        0.281529      2020        0.390843          7.103   \n",
       "..           ...             ...       ...             ...            ...   \n",
       "131     0.396573        0.135235      2020        0.933687          2.523   \n",
       "132     0.900589        0.235705      2020        0.183541          3.415   \n",
       "133     0.735183        0.196670      2020        0.740533          5.045   \n",
       "134     0.626350        0.187402      2020        0.606935          3.775   \n",
       "135     0.649829        0.200774      2020        0.757733          4.107   \n",
       "\n",
       "     GDP2021  Freedom2021  Generosity2021  Year2021  Corruption2021  \n",
       "0      1.566        0.919           0.204      2021           0.292  \n",
       "1      1.482        0.955           0.293      2021           0.673  \n",
       "2      1.502        0.946           0.208      2021           0.179  \n",
       "3      1.543        0.960           0.249      2021           0.270  \n",
       "4      1.447        0.915           0.246      2021           0.415  \n",
       "..       ...          ...             ...       ...             ...  \n",
       "131    0.370        0.382           0.122      2021           0.924  \n",
       "132    0.364        0.897           0.227      2021           0.167  \n",
       "133    0.507        0.757           0.166      2021           0.661  \n",
       "134    0.000        0.626           0.172      2021           0.607  \n",
       "135    0.254        0.619           0.209      2021           0.772  \n",
       "\n",
       "[136 rows x 44 columns]"
      ]
     },
     "execution_count": 2,
     "metadata": {},
     "output_type": "execute_result"
    }
   ],
   "source": [
    "happy_df = pd.read_csv('Data/Clean Data/HappynessCleanDataFinal.csv')\n",
    "happy_df"
   ]
  },
  {
   "cell_type": "code",
   "execution_count": 3,
   "metadata": {
    "scrolled": true
   },
   "outputs": [],
   "source": [
    "corruption = happy_df[['Country','Corruption2015', 'Corruption2016', 'Corruption2017',\n",
    "                           'Corruption2018', 'Corruption2019', 'Corruption2020', 'Corruption2021' ]]\n",
    "corruptionavg = corruption.mean(axis = 1)"
   ]
  },
  {
   "cell_type": "code",
   "execution_count": 4,
   "metadata": {
    "scrolled": true
   },
   "outputs": [
    {
     "data": {
      "text/html": [
       "<div>\n",
       "<style scoped>\n",
       "    .dataframe tbody tr th:only-of-type {\n",
       "        vertical-align: middle;\n",
       "    }\n",
       "\n",
       "    .dataframe tbody tr th {\n",
       "        vertical-align: top;\n",
       "    }\n",
       "\n",
       "    .dataframe thead th {\n",
       "        text-align: right;\n",
       "    }\n",
       "</style>\n",
       "<table border=\"1\" class=\"dataframe\">\n",
       "  <thead>\n",
       "    <tr style=\"text-align: right;\">\n",
       "      <th></th>\n",
       "      <th>Country</th>\n",
       "      <th>Happiness2015</th>\n",
       "      <th>Happiness2016</th>\n",
       "      <th>Happiness2017</th>\n",
       "      <th>Happiness2018</th>\n",
       "      <th>Happiness2019</th>\n",
       "      <th>Happiness2020</th>\n",
       "      <th>Happiness2021</th>\n",
       "    </tr>\n",
       "  </thead>\n",
       "  <tbody>\n",
       "    <tr>\n",
       "      <th>0</th>\n",
       "      <td>Switzerland</td>\n",
       "      <td>7.587</td>\n",
       "      <td>7.509</td>\n",
       "      <td>7.494</td>\n",
       "      <td>7.487</td>\n",
       "      <td>7.480</td>\n",
       "      <td>7.5599</td>\n",
       "      <td>7.571</td>\n",
       "    </tr>\n",
       "    <tr>\n",
       "      <th>1</th>\n",
       "      <td>Iceland</td>\n",
       "      <td>7.561</td>\n",
       "      <td>7.501</td>\n",
       "      <td>7.504</td>\n",
       "      <td>7.495</td>\n",
       "      <td>7.494</td>\n",
       "      <td>7.5045</td>\n",
       "      <td>7.554</td>\n",
       "    </tr>\n",
       "    <tr>\n",
       "      <th>2</th>\n",
       "      <td>Denmark</td>\n",
       "      <td>7.527</td>\n",
       "      <td>7.526</td>\n",
       "      <td>7.522</td>\n",
       "      <td>7.555</td>\n",
       "      <td>7.600</td>\n",
       "      <td>7.6456</td>\n",
       "      <td>7.620</td>\n",
       "    </tr>\n",
       "    <tr>\n",
       "      <th>3</th>\n",
       "      <td>Norway</td>\n",
       "      <td>7.522</td>\n",
       "      <td>7.498</td>\n",
       "      <td>7.537</td>\n",
       "      <td>7.594</td>\n",
       "      <td>7.554</td>\n",
       "      <td>7.4880</td>\n",
       "      <td>7.392</td>\n",
       "    </tr>\n",
       "    <tr>\n",
       "      <th>4</th>\n",
       "      <td>Canada</td>\n",
       "      <td>7.427</td>\n",
       "      <td>7.404</td>\n",
       "      <td>7.316</td>\n",
       "      <td>7.328</td>\n",
       "      <td>7.278</td>\n",
       "      <td>7.2321</td>\n",
       "      <td>7.103</td>\n",
       "    </tr>\n",
       "    <tr>\n",
       "      <th>...</th>\n",
       "      <td>...</td>\n",
       "      <td>...</td>\n",
       "      <td>...</td>\n",
       "      <td>...</td>\n",
       "      <td>...</td>\n",
       "      <td>...</td>\n",
       "      <td>...</td>\n",
       "      <td>...</td>\n",
       "    </tr>\n",
       "    <tr>\n",
       "      <th>131</th>\n",
       "      <td>Afghanistan</td>\n",
       "      <td>3.575</td>\n",
       "      <td>3.360</td>\n",
       "      <td>3.794</td>\n",
       "      <td>3.632</td>\n",
       "      <td>3.203</td>\n",
       "      <td>2.5669</td>\n",
       "      <td>2.523</td>\n",
       "    </tr>\n",
       "    <tr>\n",
       "      <th>132</th>\n",
       "      <td>Rwanda</td>\n",
       "      <td>3.465</td>\n",
       "      <td>3.515</td>\n",
       "      <td>3.471</td>\n",
       "      <td>3.408</td>\n",
       "      <td>3.334</td>\n",
       "      <td>3.3123</td>\n",
       "      <td>3.415</td>\n",
       "    </tr>\n",
       "    <tr>\n",
       "      <th>133</th>\n",
       "      <td>Benin</td>\n",
       "      <td>3.340</td>\n",
       "      <td>3.484</td>\n",
       "      <td>3.657</td>\n",
       "      <td>4.141</td>\n",
       "      <td>4.883</td>\n",
       "      <td>5.2160</td>\n",
       "      <td>5.045</td>\n",
       "    </tr>\n",
       "    <tr>\n",
       "      <th>134</th>\n",
       "      <td>Burundi</td>\n",
       "      <td>2.905</td>\n",
       "      <td>2.905</td>\n",
       "      <td>2.905</td>\n",
       "      <td>2.905</td>\n",
       "      <td>3.775</td>\n",
       "      <td>3.7753</td>\n",
       "      <td>3.775</td>\n",
       "    </tr>\n",
       "    <tr>\n",
       "      <th>135</th>\n",
       "      <td>Togo</td>\n",
       "      <td>2.839</td>\n",
       "      <td>3.303</td>\n",
       "      <td>3.495</td>\n",
       "      <td>3.999</td>\n",
       "      <td>4.085</td>\n",
       "      <td>4.1872</td>\n",
       "      <td>4.107</td>\n",
       "    </tr>\n",
       "  </tbody>\n",
       "</table>\n",
       "<p>136 rows × 8 columns</p>\n",
       "</div>"
      ],
      "text/plain": [
       "         Country  Happiness2015  Happiness2016  Happiness2017  Happiness2018  \\\n",
       "0    Switzerland          7.587          7.509          7.494          7.487   \n",
       "1        Iceland          7.561          7.501          7.504          7.495   \n",
       "2        Denmark          7.527          7.526          7.522          7.555   \n",
       "3         Norway          7.522          7.498          7.537          7.594   \n",
       "4         Canada          7.427          7.404          7.316          7.328   \n",
       "..           ...            ...            ...            ...            ...   \n",
       "131  Afghanistan          3.575          3.360          3.794          3.632   \n",
       "132       Rwanda          3.465          3.515          3.471          3.408   \n",
       "133        Benin          3.340          3.484          3.657          4.141   \n",
       "134      Burundi          2.905          2.905          2.905          2.905   \n",
       "135         Togo          2.839          3.303          3.495          3.999   \n",
       "\n",
       "     Happiness2019  Happiness2020  Happiness2021  \n",
       "0            7.480         7.5599          7.571  \n",
       "1            7.494         7.5045          7.554  \n",
       "2            7.600         7.6456          7.620  \n",
       "3            7.554         7.4880          7.392  \n",
       "4            7.278         7.2321          7.103  \n",
       "..             ...            ...            ...  \n",
       "131          3.203         2.5669          2.523  \n",
       "132          3.334         3.3123          3.415  \n",
       "133          4.883         5.2160          5.045  \n",
       "134          3.775         3.7753          3.775  \n",
       "135          4.085         4.1872          4.107  \n",
       "\n",
       "[136 rows x 8 columns]"
      ]
     },
     "execution_count": 4,
     "metadata": {},
     "output_type": "execute_result"
    }
   ],
   "source": [
    "happy_year = happy_df[['Country','Happiness2015','Happiness2016','Happiness2017',\n",
    "                      'Happiness2018','Happiness2019','Happiness2020','Happiness2021']]\n",
    "happyavg = happy_year.mean(axis = 1)\n",
    "happy_year"
   ]
  },
  {
   "cell_type": "code",
   "execution_count": 5,
   "metadata": {
    "scrolled": true
   },
   "outputs": [
    {
     "data": {
      "text/plain": [
       "0      0.356364\n",
       "1      0.297919\n",
       "2      0.356337\n",
       "3      0.321853\n",
       "4      0.333582\n",
       "         ...   \n",
       "131    0.306879\n",
       "132    0.388269\n",
       "133    0.251196\n",
       "134    0.249842\n",
       "135    0.290654\n",
       "Length: 136, dtype: float64"
      ]
     },
     "execution_count": 5,
     "metadata": {},
     "output_type": "execute_result"
    }
   ],
   "source": [
    "corruptionavg = corruption.mean(axis = 1)\n",
    "corruptionavg"
   ]
  },
  {
   "cell_type": "code",
   "execution_count": 7,
   "metadata": {},
   "outputs": [
    {
     "data": {
      "text/plain": [
       "Ttest_indResult(statistic=-55.63750995901541, pvalue=4.6358552763512926e-95)"
      ]
     },
     "execution_count": 7,
     "metadata": {},
     "output_type": "execute_result"
    }
   ],
   "source": [
    "stats.ttest_ind(corruptionavg,happyavg, equal_var = False)"
   ]
  },
  {
   "cell_type": "code",
   "execution_count": 8,
   "metadata": {},
   "outputs": [
    {
     "data": {
      "text/plain": [
       "<matplotlib.collections.PathCollection at 0x20653406390>"
      ]
     },
     "execution_count": 8,
     "metadata": {},
     "output_type": "execute_result"
    },
    {
     "data": {
      "image/png": "[encoded data removed]",
      "text/plain": [
       "<Figure size 432x288 with 1 Axes>"
      ]
     },
     "metadata": {
      "needs_background": "light"
     },
     "output_type": "display_data"
    }
   ],
   "source": [
    "x_axis = happy_year['Happiness2015']\n",
    "y_axis = corruption['Corruption2015']\n",
    "\n",
    "#happiness of people affects how they see the government\n",
    "#Set plot points and plot the scatter\n",
    "plt.xlabel('Happiness')\n",
    "plt.ylabel('Corruption')\n",
    "plt.title('Corruption vs Happiness 2015')\n",
    "plt.scatter(x_axis,y_axis)"
   ]
  },
  {
   "cell_type": "code",
   "execution_count": 9,
   "metadata": {},
   "outputs": [
    {
     "data": {
      "text/plain": [
       "<matplotlib.collections.PathCollection at 0x2065345f518>"
      ]
     },
     "execution_count": 9,
     "metadata": {},
     "output_type": "execute_result"
    },
    {
     "data": {
      "image/png": "[encoded data removed]",
      "text/plain": [
       "<Figure size 432x288 with 1 Axes>"
      ]
     },
     "metadata": {
      "needs_background": "light"
     },
     "output_type": "display_data"
    }
   ],
   "source": [
    "#Set plot points and plot the scatter\n",
    "x_axis = happy_year['Happiness2016']\n",
    "y_axis = corruption['Corruption2016']\n",
    "plt.xlabel('Happiness')\n",
    "plt.ylabel('Corruption')\n",
    "plt.title('Corruption vs Happiness 2016')\n",
    "plt.scatter(x_axis,y_axis)"
   ]
  },
  {
   "cell_type": "code",
   "execution_count": 10,
   "metadata": {
    "scrolled": true
   },
   "outputs": [
    {
     "data": {
      "text/plain": [
       "<matplotlib.collections.PathCollection at 0x206534d8da0>"
      ]
     },
     "execution_count": 10,
     "metadata": {},
     "output_type": "execute_result"
    },
    {
     "data": {
      "image/png": "[encoded data removed]",
      "text/plain": [
       "<Figure size 432x288 with 1 Axes>"
      ]
     },
     "metadata": {
      "needs_background": "light"
     },
     "output_type": "display_data"
    }
   ],
   "source": [
    "x_axis = happy_year['Happiness2017']\n",
    "y_axis = corruption['Corruption2017']\n",
    "plt.xlabel('Happiness')\n",
    "plt.ylabel('Corruption')\n",
    "plt.title('Corruption vs Happiness 2017')\n",
    "plt.scatter(x_axis,y_axis)"
   ]
  },
  {
   "cell_type": "code",
   "execution_count": 11,
   "metadata": {},
   "outputs": [
    {
     "data": {
      "text/plain": [
       "<matplotlib.collections.PathCollection at 0x206535366a0>"
      ]
     },
     "execution_count": 11,
     "metadata": {},
     "output_type": "execute_result"
    },
    {
     "data": {
      "image/png": "[encoded data removed]",
      "text/plain": [
       "<Figure size 432x288 with 1 Axes>"
      ]
     },
     "metadata": {
      "needs_background": "light"
     },
     "output_type": "display_data"
    }
   ],
   "source": [
    "x_axis = happy_year['Happiness2018']\n",
    "y_axis = corruption['Corruption2018']\n",
    "plt.xlabel('Happiness')\n",
    "plt.ylabel('Corruption')\n",
    "plt.title('Corruption vs Happiness 2018')\n",
    "plt.scatter(x_axis,y_axis)"
   ]
  },
  {
   "cell_type": "code",
   "execution_count": 12,
   "metadata": {},
   "outputs": [
    {
     "data": {
      "text/plain": [
       "<matplotlib.collections.PathCollection at 0x206535967b8>"
      ]
     },
     "execution_count": 12,
     "metadata": {},
     "output_type": "execute_result"
    },
    {
     "data": {
      "image/png": "[encoded data removed]",
      "text/plain": [
       "<Figure size 432x288 with 1 Axes>"
      ]
     },
     "metadata": {
      "needs_background": "light"
     },
     "output_type": "display_data"
    }
   ],
   "source": [
    "x_axis = happy_year['Happiness2019']\n",
    "y_axis = corruption['Corruption2019']\n",
    "plt.xlabel('Happiness')\n",
    "plt.ylabel('Corruption')\n",
    "plt.title('Corruption vs Happiness 2019')\n",
    "plt.scatter(x_axis,y_axis)"
   ]
  },
  {
   "cell_type": "code",
   "execution_count": 13,
   "metadata": {},
   "outputs": [
    {
     "data": {
      "text/plain": [
       "<matplotlib.collections.PathCollection at 0x206535efa58>"
      ]
     },
     "execution_count": 13,
     "metadata": {},
     "output_type": "execute_result"
    },
    {
     "data": {
      "image/png": "[encoded data removed]",
      "text/plain": [
       "<Figure size 432x288 with 1 Axes>"
      ]
     },
     "metadata": {
      "needs_background": "light"
     },
     "output_type": "display_data"
    }
   ],
   "source": [
    "x_axis = happy_year['Happiness2020']\n",
    "y_axis = corruption['Corruption2020']\n",
    "plt.xlabel('Happiness')\n",
    "plt.ylabel('Corruption')\n",
    "plt.title('Corruption vs Happiness 2020')\n",
    "plt.scatter(x_axis,y_axis)"
   ]
  },
  {
   "cell_type": "code",
   "execution_count": 14,
   "metadata": {},
   "outputs": [
    {
     "data": {
      "text/plain": [
       "<matplotlib.collections.PathCollection at 0x20653458320>"
      ]
     },
     "execution_count": 14,
     "metadata": {},
     "output_type": "execute_result"
    },
    {
     "data": {
      "image/png": "[encoded data removed]",
      "text/plain": [
       "<Figure size 432x288 with 1 Axes>"
      ]
     },
     "metadata": {
      "needs_background": "light"
     },
     "output_type": "display_data"
    }
   ],
   "source": [
    "x_axis = happy_year['Happiness2021']\n",
    "y_axis = corruption['Corruption2021']\n",
    "plt.xlabel('Happiness')\n",
    "plt.ylabel('Corruption')\n",
    "plt.title('Corruption vs Happiness 2021')\n",
    "plt.scatter(x_axis,y_axis)"
   ]
  },
  {
   "cell_type": "code",
   "execution_count": 15,
   "metadata": {},
   "outputs": [
    {
     "data": {
      "text/plain": [
       "<matplotlib.collections.PathCollection at 0x206535f4390>"
      ]
     },
     "execution_count": 15,
     "metadata": {},
     "output_type": "execute_result"
    },
    {
     "data": {
      "image/png": "[encoded data removed]",
      "text/plain": [
       "<Figure size 432x288 with 1 Axes>"
      ]
     },
     "metadata": {
      "needs_background": "light"
     },
     "output_type": "display_data"
    }
   ],
   "source": [
    "x_axis = happyavg\n",
    "y_axis = corruptionavg\n",
    "plt.xlabel('Happiness')\n",
    "plt.ylabel('Corruption')\n",
    "plt.title('Avg Corruption vs Avg Happiness')\n",
    "plt.scatter(x_axis,y_axis)"
   ]
  }
 ],
 "metadata": {
  "kernelspec": {
   "display_name": "Python [conda env:PythonData] *",
   "language": "python",
   "name": "conda-env-PythonData-py"
  },
  "language_info": {
   "codemirror_mode": {
    "name": "ipython",
    "version": 3
   },
   "file_extension": ".py",
   "mimetype": "text/x-python",
   "name": "python",
   "nbconvert_exporter": "python",
   "pygments_lexer": "ipython3",
   "version": "3.6.10"
  }
 },
 "nbformat": 4,
 "nbformat_minor": 4
}
