{
 "cells": [
  {
   "cell_type": "code",
   "execution_count": 1,
   "metadata": {},
   "outputs": [],
   "source": [
    "import pandas as pd\n",
    "import numpy as np\n",
    "import matplotlib.pyplot as plt\n",
    "import scipy.stats as stats"
   ]
  },
  {
   "cell_type": "code",
   "execution_count": 2,
   "metadata": {},
   "outputs": [
    {
     "data": {
      "text/html": [
       "<div>\n",
       "<style scoped>\n",
       "    .dataframe tbody tr th:only-of-type {\n",
       "        vertical-align: middle;\n",
       "    }\n",
       "\n",
       "    .dataframe tbody tr th {\n",
       "        vertical-align: top;\n",
       "    }\n",
       "\n",
       "    .dataframe thead th {\n",
       "        text-align: right;\n",
       "    }\n",
       "</style>\n",
       "<table border=\"1\" class=\"dataframe\">\n",
       "  <thead>\n",
       "    <tr style=\"text-align: right;\">\n",
       "      <th></th>\n",
       "      <th>Country</th>\n",
       "      <th>Region</th>\n",
       "      <th>Happiness2015</th>\n",
       "      <th>GDP2015</th>\n",
       "      <th>Freedom2015</th>\n",
       "      <th>Generosity2015</th>\n",
       "      <th>Year2015</th>\n",
       "      <th>Corruption2015</th>\n",
       "      <th>Happiness2016</th>\n",
       "      <th>GDP2016</th>\n",
       "      <th>...</th>\n",
       "      <th>Freedom2020</th>\n",
       "      <th>Generosity2020</th>\n",
       "      <th>Year2020</th>\n",
       "      <th>Corruption2020</th>\n",
       "      <th>Happiness2021</th>\n",
       "      <th>GDP2021</th>\n",
       "      <th>Freedom2021</th>\n",
       "      <th>Generosity2021</th>\n",
       "      <th>Year2021</th>\n",
       "      <th>Corruption2021</th>\n",
       "    </tr>\n",
       "  </thead>\n",
       "  <tbody>\n",
       "    <tr>\n",
       "      <th>0</th>\n",
       "      <td>Switzerland</td>\n",
       "      <td>Western Europe</td>\n",
       "      <td>7.587</td>\n",
       "      <td>1.39651</td>\n",
       "      <td>0.66557</td>\n",
       "      <td>0.29678</td>\n",
       "      <td>2015</td>\n",
       "      <td>0.41978</td>\n",
       "      <td>7.509</td>\n",
       "      <td>1.52733</td>\n",
       "      <td>...</td>\n",
       "      <td>0.921337</td>\n",
       "      <td>0.269056</td>\n",
       "      <td>2020</td>\n",
       "      <td>0.303728</td>\n",
       "      <td>7.571</td>\n",
       "      <td>1.566</td>\n",
       "      <td>0.919</td>\n",
       "      <td>0.204</td>\n",
       "      <td>2021</td>\n",
       "      <td>0.292</td>\n",
       "    </tr>\n",
       "    <tr>\n",
       "      <th>1</th>\n",
       "      <td>Iceland</td>\n",
       "      <td>Western Europe</td>\n",
       "      <td>7.561</td>\n",
       "      <td>1.30232</td>\n",
       "      <td>0.62877</td>\n",
       "      <td>0.43630</td>\n",
       "      <td>2015</td>\n",
       "      <td>0.14145</td>\n",
       "      <td>7.501</td>\n",
       "      <td>1.42666</td>\n",
       "      <td>...</td>\n",
       "      <td>0.948892</td>\n",
       "      <td>0.362330</td>\n",
       "      <td>2020</td>\n",
       "      <td>0.711710</td>\n",
       "      <td>7.554</td>\n",
       "      <td>1.482</td>\n",
       "      <td>0.955</td>\n",
       "      <td>0.293</td>\n",
       "      <td>2021</td>\n",
       "      <td>0.673</td>\n",
       "    </tr>\n",
       "    <tr>\n",
       "      <th>2</th>\n",
       "      <td>Denmark</td>\n",
       "      <td>Western Europe</td>\n",
       "      <td>7.527</td>\n",
       "      <td>1.32548</td>\n",
       "      <td>0.64938</td>\n",
       "      <td>0.34139</td>\n",
       "      <td>2015</td>\n",
       "      <td>0.48357</td>\n",
       "      <td>7.526</td>\n",
       "      <td>1.44178</td>\n",
       "      <td>...</td>\n",
       "      <td>0.951444</td>\n",
       "      <td>0.242793</td>\n",
       "      <td>2020</td>\n",
       "      <td>0.168489</td>\n",
       "      <td>7.620</td>\n",
       "      <td>1.502</td>\n",
       "      <td>0.946</td>\n",
       "      <td>0.208</td>\n",
       "      <td>2021</td>\n",
       "      <td>0.179</td>\n",
       "    </tr>\n",
       "    <tr>\n",
       "      <th>3</th>\n",
       "      <td>Norway</td>\n",
       "      <td>Western Europe</td>\n",
       "      <td>7.522</td>\n",
       "      <td>1.45900</td>\n",
       "      <td>0.66973</td>\n",
       "      <td>0.34699</td>\n",
       "      <td>2015</td>\n",
       "      <td>0.36503</td>\n",
       "      <td>7.498</td>\n",
       "      <td>1.57744</td>\n",
       "      <td>...</td>\n",
       "      <td>0.955750</td>\n",
       "      <td>0.287985</td>\n",
       "      <td>2020</td>\n",
       "      <td>0.263218</td>\n",
       "      <td>7.392</td>\n",
       "      <td>1.543</td>\n",
       "      <td>0.960</td>\n",
       "      <td>0.249</td>\n",
       "      <td>2021</td>\n",
       "      <td>0.270</td>\n",
       "    </tr>\n",
       "    <tr>\n",
       "      <th>4</th>\n",
       "      <td>Canada</td>\n",
       "      <td>North America</td>\n",
       "      <td>7.427</td>\n",
       "      <td>1.32629</td>\n",
       "      <td>0.63297</td>\n",
       "      <td>0.45811</td>\n",
       "      <td>2015</td>\n",
       "      <td>0.32957</td>\n",
       "      <td>7.404</td>\n",
       "      <td>1.44015</td>\n",
       "      <td>...</td>\n",
       "      <td>0.933913</td>\n",
       "      <td>0.281529</td>\n",
       "      <td>2020</td>\n",
       "      <td>0.390843</td>\n",
       "      <td>7.103</td>\n",
       "      <td>1.447</td>\n",
       "      <td>0.915</td>\n",
       "      <td>0.246</td>\n",
       "      <td>2021</td>\n",
       "      <td>0.415</td>\n",
       "    </tr>\n",
       "    <tr>\n",
       "      <th>...</th>\n",
       "      <td>...</td>\n",
       "      <td>...</td>\n",
       "      <td>...</td>\n",
       "      <td>...</td>\n",
       "      <td>...</td>\n",
       "      <td>...</td>\n",
       "      <td>...</td>\n",
       "      <td>...</td>\n",
       "      <td>...</td>\n",
       "      <td>...</td>\n",
       "      <td>...</td>\n",
       "      <td>...</td>\n",
       "      <td>...</td>\n",
       "      <td>...</td>\n",
       "      <td>...</td>\n",
       "      <td>...</td>\n",
       "      <td>...</td>\n",
       "      <td>...</td>\n",
       "      <td>...</td>\n",
       "      <td>...</td>\n",
       "      <td>...</td>\n",
       "    </tr>\n",
       "    <tr>\n",
       "      <th>131</th>\n",
       "      <td>Afghanistan</td>\n",
       "      <td>Southern Asia</td>\n",
       "      <td>3.575</td>\n",
       "      <td>0.31982</td>\n",
       "      <td>0.23414</td>\n",
       "      <td>0.36510</td>\n",
       "      <td>2015</td>\n",
       "      <td>0.09719</td>\n",
       "      <td>3.360</td>\n",
       "      <td>0.38227</td>\n",
       "      <td>...</td>\n",
       "      <td>0.396573</td>\n",
       "      <td>0.135235</td>\n",
       "      <td>2020</td>\n",
       "      <td>0.933687</td>\n",
       "      <td>2.523</td>\n",
       "      <td>0.370</td>\n",
       "      <td>0.382</td>\n",
       "      <td>0.122</td>\n",
       "      <td>2021</td>\n",
       "      <td>0.924</td>\n",
       "    </tr>\n",
       "    <tr>\n",
       "      <th>132</th>\n",
       "      <td>Rwanda</td>\n",
       "      <td>Sub-Saharan Africa</td>\n",
       "      <td>3.465</td>\n",
       "      <td>0.22208</td>\n",
       "      <td>0.59201</td>\n",
       "      <td>0.22628</td>\n",
       "      <td>2015</td>\n",
       "      <td>0.55191</td>\n",
       "      <td>3.515</td>\n",
       "      <td>0.32846</td>\n",
       "      <td>...</td>\n",
       "      <td>0.900589</td>\n",
       "      <td>0.235705</td>\n",
       "      <td>2020</td>\n",
       "      <td>0.183541</td>\n",
       "      <td>3.415</td>\n",
       "      <td>0.364</td>\n",
       "      <td>0.897</td>\n",
       "      <td>0.227</td>\n",
       "      <td>2021</td>\n",
       "      <td>0.167</td>\n",
       "    </tr>\n",
       "    <tr>\n",
       "      <th>133</th>\n",
       "      <td>Benin</td>\n",
       "      <td>Sub-Saharan Africa</td>\n",
       "      <td>3.340</td>\n",
       "      <td>0.28665</td>\n",
       "      <td>0.48450</td>\n",
       "      <td>0.18260</td>\n",
       "      <td>2015</td>\n",
       "      <td>0.08010</td>\n",
       "      <td>3.484</td>\n",
       "      <td>0.39499</td>\n",
       "      <td>...</td>\n",
       "      <td>0.735183</td>\n",
       "      <td>0.196670</td>\n",
       "      <td>2020</td>\n",
       "      <td>0.740533</td>\n",
       "      <td>5.045</td>\n",
       "      <td>0.507</td>\n",
       "      <td>0.757</td>\n",
       "      <td>0.166</td>\n",
       "      <td>2021</td>\n",
       "      <td>0.661</td>\n",
       "    </tr>\n",
       "    <tr>\n",
       "      <th>134</th>\n",
       "      <td>Burundi</td>\n",
       "      <td>Sub-Saharan Africa</td>\n",
       "      <td>2.905</td>\n",
       "      <td>0.01530</td>\n",
       "      <td>0.11850</td>\n",
       "      <td>0.19727</td>\n",
       "      <td>2015</td>\n",
       "      <td>0.10062</td>\n",
       "      <td>2.905</td>\n",
       "      <td>0.06831</td>\n",
       "      <td>...</td>\n",
       "      <td>0.626350</td>\n",
       "      <td>0.187402</td>\n",
       "      <td>2020</td>\n",
       "      <td>0.606935</td>\n",
       "      <td>3.775</td>\n",
       "      <td>0.000</td>\n",
       "      <td>0.626</td>\n",
       "      <td>0.172</td>\n",
       "      <td>2021</td>\n",
       "      <td>0.607</td>\n",
       "    </tr>\n",
       "    <tr>\n",
       "      <th>135</th>\n",
       "      <td>Togo</td>\n",
       "      <td>Sub-Saharan Africa</td>\n",
       "      <td>2.839</td>\n",
       "      <td>0.20868</td>\n",
       "      <td>0.36453</td>\n",
       "      <td>0.16681</td>\n",
       "      <td>2015</td>\n",
       "      <td>0.10731</td>\n",
       "      <td>3.303</td>\n",
       "      <td>0.28123</td>\n",
       "      <td>...</td>\n",
       "      <td>0.649829</td>\n",
       "      <td>0.200774</td>\n",
       "      <td>2020</td>\n",
       "      <td>0.757733</td>\n",
       "      <td>4.107</td>\n",
       "      <td>0.254</td>\n",
       "      <td>0.619</td>\n",
       "      <td>0.209</td>\n",
       "      <td>2021</td>\n",
       "      <td>0.772</td>\n",
       "    </tr>\n",
       "  </tbody>\n",
       "</table>\n",
       "<p>136 rows × 44 columns</p>\n",
       "</div>"
      ],
      "text/plain": [
       "         Country              Region  Happiness2015  GDP2015  Freedom2015  \\\n",
       "0    Switzerland      Western Europe          7.587  1.39651      0.66557   \n",
       "1        Iceland      Western Europe          7.561  1.30232      0.62877   \n",
       "2        Denmark      Western Europe          7.527  1.32548      0.64938   \n",
       "3         Norway      Western Europe          7.522  1.45900      0.66973   \n",
       "4         Canada       North America          7.427  1.32629      0.63297   \n",
       "..           ...                 ...            ...      ...          ...   \n",
       "131  Afghanistan       Southern Asia          3.575  0.31982      0.23414   \n",
       "132       Rwanda  Sub-Saharan Africa          3.465  0.22208      0.59201   \n",
       "133        Benin  Sub-Saharan Africa          3.340  0.28665      0.48450   \n",
       "134      Burundi  Sub-Saharan Africa          2.905  0.01530      0.11850   \n",
       "135         Togo  Sub-Saharan Africa          2.839  0.20868      0.36453   \n",
       "\n",
       "     Generosity2015  Year2015  Corruption2015  Happiness2016  GDP2016  ...  \\\n",
       "0           0.29678      2015         0.41978          7.509  1.52733  ...   \n",
       "1           0.43630      2015         0.14145          7.501  1.42666  ...   \n",
       "2           0.34139      2015         0.48357          7.526  1.44178  ...   \n",
       "3           0.34699      2015         0.36503          7.498  1.57744  ...   \n",
       "4           0.45811      2015         0.32957          7.404  1.44015  ...   \n",
       "..              ...       ...             ...            ...      ...  ...   \n",
       "131         0.36510      2015         0.09719          3.360  0.38227  ...   \n",
       "132         0.22628      2015         0.55191          3.515  0.32846  ...   \n",
       "133         0.18260      2015         0.08010          3.484  0.39499  ...   \n",
       "134         0.19727      2015         0.10062          2.905  0.06831  ...   \n",
       "135         0.16681      2015         0.10731          3.303  0.28123  ...   \n",
       "\n",
       "     Freedom2020  Generosity2020  Year2020  Corruption2020  Happiness2021  \\\n",
       "0       0.921337        0.269056      2020        0.303728          7.571   \n",
       "1       0.948892        0.362330      2020        0.711710          7.554   \n",
       "2       0.951444        0.242793      2020        0.168489          7.620   \n",
       "3       0.955750        0.287985      2020        0.263218          7.392   \n",
       "4       0.933913        0.281529      2020        0.390843          7.103   \n",
       "..           ...             ...       ...             ...            ...   \n",
       "131     0.396573        0.135235      2020        0.933687          2.523   \n",
       "132     0.900589        0.235705      2020        0.183541          3.415   \n",
       "133     0.735183        0.196670      2020        0.740533          5.045   \n",
       "134     0.626350        0.187402      2020        0.606935          3.775   \n",
       "135     0.649829        0.200774      2020        0.757733          4.107   \n",
       "\n",
       "     GDP2021  Freedom2021  Generosity2021  Year2021  Corruption2021  \n",
       "0      1.566        0.919           0.204      2021           0.292  \n",
       "1      1.482        0.955           0.293      2021           0.673  \n",
       "2      1.502        0.946           0.208      2021           0.179  \n",
       "3      1.543        0.960           0.249      2021           0.270  \n",
       "4      1.447        0.915           0.246      2021           0.415  \n",
       "..       ...          ...             ...       ...             ...  \n",
       "131    0.370        0.382           0.122      2021           0.924  \n",
       "132    0.364        0.897           0.227      2021           0.167  \n",
       "133    0.507        0.757           0.166      2021           0.661  \n",
       "134    0.000        0.626           0.172      2021           0.607  \n",
       "135    0.254        0.619           0.209      2021           0.772  \n",
       "\n",
       "[136 rows x 44 columns]"
      ]
     },
     "execution_count": 2,
     "metadata": {},
     "output_type": "execute_result"
    }
   ],
   "source": [
    "happy_df = pd.read_csv('../Data/Clean Data/HappynessCleanDataFinal.csv')\n",
    "happy_df"
   ]
  },
  {
   "cell_type": "code",
   "execution_count": 3,
   "metadata": {},
   "outputs": [
    {
     "data": {
      "text/html": [
       "<div>\n",
       "<style scoped>\n",
       "    .dataframe tbody tr th:only-of-type {\n",
       "        vertical-align: middle;\n",
       "    }\n",
       "\n",
       "    .dataframe tbody tr th {\n",
       "        vertical-align: top;\n",
       "    }\n",
       "\n",
       "    .dataframe thead th {\n",
       "        text-align: right;\n",
       "    }\n",
       "</style>\n",
       "<table border=\"1\" class=\"dataframe\">\n",
       "  <thead>\n",
       "    <tr style=\"text-align: right;\">\n",
       "      <th></th>\n",
       "      <th>Corruption2015</th>\n",
       "      <th>Corruption2016</th>\n",
       "      <th>Corruption2017</th>\n",
       "      <th>Corruption2018</th>\n",
       "      <th>Corruption2019</th>\n",
       "      <th>Corruption2020</th>\n",
       "      <th>Corruption2021</th>\n",
       "    </tr>\n",
       "  </thead>\n",
       "  <tbody>\n",
       "    <tr>\n",
       "      <th>count</th>\n",
       "      <td>136.000000</td>\n",
       "      <td>136.000000</td>\n",
       "      <td>136.000000</td>\n",
       "      <td>136.000000</td>\n",
       "      <td>136.000000</td>\n",
       "      <td>136.000000</td>\n",
       "      <td>136.000000</td>\n",
       "    </tr>\n",
       "    <tr>\n",
       "      <th>mean</th>\n",
       "      <td>0.135862</td>\n",
       "      <td>0.131472</td>\n",
       "      <td>0.119477</td>\n",
       "      <td>0.110750</td>\n",
       "      <td>0.108243</td>\n",
       "      <td>0.731541</td>\n",
       "      <td>0.727809</td>\n",
       "    </tr>\n",
       "    <tr>\n",
       "      <th>std</th>\n",
       "      <td>0.115842</td>\n",
       "      <td>0.108447</td>\n",
       "      <td>0.100099</td>\n",
       "      <td>0.099187</td>\n",
       "      <td>0.097253</td>\n",
       "      <td>0.180326</td>\n",
       "      <td>0.182949</td>\n",
       "    </tr>\n",
       "    <tr>\n",
       "      <th>min</th>\n",
       "      <td>0.000000</td>\n",
       "      <td>0.000000</td>\n",
       "      <td>0.000000</td>\n",
       "      <td>0.000000</td>\n",
       "      <td>0.000000</td>\n",
       "      <td>0.109784</td>\n",
       "      <td>0.082000</td>\n",
       "    </tr>\n",
       "    <tr>\n",
       "      <th>25%</th>\n",
       "      <td>0.058960</td>\n",
       "      <td>0.054748</td>\n",
       "      <td>0.054846</td>\n",
       "      <td>0.049750</td>\n",
       "      <td>0.044250</td>\n",
       "      <td>0.684230</td>\n",
       "      <td>0.671500</td>\n",
       "    </tr>\n",
       "    <tr>\n",
       "      <th>50%</th>\n",
       "      <td>0.104525</td>\n",
       "      <td>0.095860</td>\n",
       "      <td>0.087698</td>\n",
       "      <td>0.080500</td>\n",
       "      <td>0.081000</td>\n",
       "      <td>0.784785</td>\n",
       "      <td>0.791500</td>\n",
       "    </tr>\n",
       "    <tr>\n",
       "      <th>75%</th>\n",
       "      <td>0.174025</td>\n",
       "      <td>0.172462</td>\n",
       "      <td>0.146166</td>\n",
       "      <td>0.133250</td>\n",
       "      <td>0.128500</td>\n",
       "      <td>0.848261</td>\n",
       "      <td>0.845750</td>\n",
       "    </tr>\n",
       "    <tr>\n",
       "      <th>max</th>\n",
       "      <td>0.551910</td>\n",
       "      <td>0.505210</td>\n",
       "      <td>0.464308</td>\n",
       "      <td>0.457000</td>\n",
       "      <td>0.453000</td>\n",
       "      <td>0.935585</td>\n",
       "      <td>0.939000</td>\n",
       "    </tr>\n",
       "  </tbody>\n",
       "</table>\n",
       "</div>"
      ],
      "text/plain": [
       "       Corruption2015  Corruption2016  Corruption2017  Corruption2018  \\\n",
       "count      136.000000      136.000000      136.000000      136.000000   \n",
       "mean         0.135862        0.131472        0.119477        0.110750   \n",
       "std          0.115842        0.108447        0.100099        0.099187   \n",
       "min          0.000000        0.000000        0.000000        0.000000   \n",
       "25%          0.058960        0.054748        0.054846        0.049750   \n",
       "50%          0.104525        0.095860        0.087698        0.080500   \n",
       "75%          0.174025        0.172462        0.146166        0.133250   \n",
       "max          0.551910        0.505210        0.464308        0.457000   \n",
       "\n",
       "       Corruption2019  Corruption2020  Corruption2021  \n",
       "count      136.000000      136.000000      136.000000  \n",
       "mean         0.108243        0.731541        0.727809  \n",
       "std          0.097253        0.180326        0.182949  \n",
       "min          0.000000        0.109784        0.082000  \n",
       "25%          0.044250        0.684230        0.671500  \n",
       "50%          0.081000        0.784785        0.791500  \n",
       "75%          0.128500        0.848261        0.845750  \n",
       "max          0.453000        0.935585        0.939000  "
      ]
     },
     "execution_count": 3,
     "metadata": {},
     "output_type": "execute_result"
    }
   ],
   "source": [
    "corruption = happy_df[['Country','Corruption2015', 'Corruption2016', 'Corruption2017',\n",
    "                           'Corruption2018', 'Corruption2019', 'Corruption2020', 'Corruption2021' ]]\n",
    "corruptionavg = corruption.mean(axis = 1 )\n",
    "corruption.describe()"
   ]
  },
  {
   "cell_type": "code",
   "execution_count": 4,
   "metadata": {},
   "outputs": [],
   "source": [
    "generosity = happy_df[['Country','Generosity2015', 'Generosity2016','Generosity2017',\n",
    "                       'Generosity2018','Generosity2019','Generosity2020','Generosity2021']]\n",
    "generosityavg = generosity.mean(axis = 1)"
   ]
  },
  {
   "cell_type": "code",
   "execution_count": 5,
   "metadata": {},
   "outputs": [],
   "source": [
    "happiness = happy_df[['Country','Happiness2015','Happiness2016',\n",
    "                      'Happiness2017','Happiness2018','Happiness2019','Happiness2020','Happiness2021']]\n"
   ]
  },
  {
   "cell_type": "code",
   "execution_count": 6,
   "metadata": {},
   "outputs": [
    {
     "data": {
      "text/plain": [
       "Ttest_indResult(statistic=9.278119830516218, pvalue=1.431385473016657e-16)"
      ]
     },
     "execution_count": 6,
     "metadata": {},
     "output_type": "execute_result"
    }
   ],
   "source": [
    "stats.ttest_ind(corruptionavg, generosityavg, equal_var = False)"
   ]
  },
  {
   "cell_type": "code",
   "execution_count": 38,
   "metadata": {},
   "outputs": [
    {
     "data": {
      "text/plain": [
       "<matplotlib.collections.PathCollection at 0x1767d1d9208>"
      ]
     },
     "execution_count": 38,
     "metadata": {},
     "output_type": "execute_result"
    },
    {
     "data": {
      "image/png": "[encoded data removed]",
      "text/plain": [
       "<Figure size 432x288 with 1 Axes>"
      ]
     },
     "metadata": {
      "needs_background": "light"
     },
     "output_type": "display_data"
    }
   ],
   "source": [
    "\n",
    "x_axis = generosity['Generosity2015']\n",
    "y_axis = corruption['Corruption2015']\n",
    "(slope, intercept, rvalue, pvalue, stderr) = stats.linregress(x_axis, y_axis)\n",
    "regress_values = x_axis * slope + intercept\n",
    "# build linear equation\n",
    "line_eq = \"y = \" + str(round(slope,2)) + \"x + \" + str(round(intercept,2))\n",
    "plt.plot(x_axis,regress_values,\"r-\")\n",
    "plt.annotate(line_eq,(.4,.45),fontsize=15,color=\"blue\")\n",
    "#Set plot points and plot the scatter\n",
    "plt.xlabel('Generosity')\n",
    "plt.ylabel('Corruption')\n",
    "plt.title('Corruption vs Generosity 2015')\n",
    "plt.scatter(x_axis,y_axis)"
   ]
  },
  {
   "cell_type": "code",
   "execution_count": 36,
   "metadata": {},
   "outputs": [
    {
     "data": {
      "text/plain": [
       "<matplotlib.collections.PathCollection at 0x1767d0da0b8>"
      ]
     },
     "execution_count": 36,
     "metadata": {},
     "output_type": "execute_result"
    },
    {
     "data": {
      "image/png": "[encoded data removed]",
      "text/plain": [
       "<Figure size 432x288 with 1 Axes>"
      ]
     },
     "metadata": {
      "needs_background": "light"
     },
     "output_type": "display_data"
    }
   ],
   "source": [
    "x_axis = generosity['Generosity2016']\n",
    "y_axis = corruption['Corruption2016']\n",
    "(slope, intercept, rvalue, pvalue, stderr) = stats.linregress(x_axis, y_axis)\n",
    "regress_values = x_axis * slope + intercept\n",
    "# build linear equation\n",
    "line_eq = \"y = \" + str(round(slope,2)) + \"x + \" + str(round(intercept,2))\n",
    "plt.plot(x_axis,regress_values,\"r-\")\n",
    "plt.annotate(line_eq,(.40,.45),fontsize=15,color=\"blue\")\n",
    "#Set plot points and plot the scatter\n",
    "plt.xlabel('Generosity')\n",
    "plt.ylabel('Corruption')\n",
    "plt.title('Corruption vs Generosity 2016')\n",
    "plt.scatter(x_axis,y_axis)"
   ]
  },
  {
   "cell_type": "code",
   "execution_count": 33,
   "metadata": {},
   "outputs": [
    {
     "data": {
      "text/plain": [
       "<matplotlib.collections.PathCollection at 0x1767cfef358>"
      ]
     },
     "execution_count": 33,
     "metadata": {},
     "output_type": "execute_result"
    },
    {
     "data": {
      "image/png": "[encoded data removed]",
      "text/plain": [
       "<Figure size 432x288 with 1 Axes>"
      ]
     },
     "metadata": {
      "needs_background": "light"
     },
     "output_type": "display_data"
    }
   ],
   "source": [
    "x_axis = generosity['Generosity2017']\n",
    "y_axis = corruption['Corruption2017']\n",
    "(slope, intercept, rvalue, pvalue, stderr) = stats.linregress(x_axis, y_axis)\n",
    "regress_values = x_axis * slope + intercept\n",
    "# build linear equation\n",
    "line_eq = \"y = \" + str(round(slope,2)) + \"x + \" + str(round(intercept,2))\n",
    "plt.plot(x_axis,regress_values,\"r-\")\n",
    "plt.annotate(line_eq,(.4,.4),fontsize=15,color=\"blue\")\n",
    "#Set plot points and plot the scatter\n",
    "plt.xlabel('Generosity')\n",
    "plt.ylabel('Corruption')\n",
    "plt.title('Corruption vs Generosity 2017')\n",
    "plt.scatter(x_axis,y_axis)"
   ]
  },
  {
   "cell_type": "code",
   "execution_count": 29,
   "metadata": {},
   "outputs": [
    {
     "data": {
      "text/plain": [
       "<matplotlib.collections.PathCollection at 0x1767ce70a20>"
      ]
     },
     "execution_count": 29,
     "metadata": {},
     "output_type": "execute_result"
    },
    {
     "data": {
      "image/png": "[encoded data removed]",
      "text/plain": [
       "<Figure size 432x288 with 1 Axes>"
      ]
     },
     "metadata": {
      "needs_background": "light"
     },
     "output_type": "display_data"
    }
   ],
   "source": [
    "x_axis = generosity['Generosity2018']\n",
    "y_axis = corruption['Corruption2018']\n",
    "(slope, intercept, rvalue, pvalue, stderr) = stats.linregress(x_axis, y_axis)\n",
    "regress_values = x_axis * slope + intercept\n",
    "# build linear equation\n",
    "line_eq = \"y = \" + str(round(slope,2)) + \"x + \" + str(round(intercept,2))\n",
    "plt.plot(x_axis,regress_values,\"r-\")\n",
    "plt.annotate(line_eq,(.25,.22),fontsize=15,color=\"blue\")\n",
    "#Set plot points and plot the scatter\n",
    "plt.xlabel('Generosity')\n",
    "plt.ylabel('Corruption')\n",
    "plt.title('Corruption vs Generosity 2018')\n",
    "plt.scatter(x_axis,y_axis)"
   ]
  },
  {
   "cell_type": "code",
   "execution_count": 24,
   "metadata": {},
   "outputs": [
    {
     "data": {
      "text/plain": [
       "<matplotlib.collections.PathCollection at 0x1767bccd9e8>"
      ]
     },
     "execution_count": 24,
     "metadata": {},
     "output_type": "execute_result"
    },
    {
     "data": {
      "image/png": "[encoded data removed]",
      "text/plain": [
       "<Figure size 432x288 with 1 Axes>"
      ]
     },
     "metadata": {
      "needs_background": "light"
     },
     "output_type": "display_data"
    }
   ],
   "source": [
    "x_axis = generosity['Generosity2019']\n",
    "y_axis = corruption['Corruption2019']\n",
    "(slope, intercept, rvalue, pvalue, stderr) = stats.linregress(x_axis, y_axis)\n",
    "regress_values = x_axis * slope + intercept\n",
    "# build linear equation\n",
    "line_eq = \"y = \" + str(round(slope,2)) + \"x + \" + str(round(intercept,2))\n",
    "plt.plot(x_axis,regress_values,\"r-\")\n",
    "plt.annotate(line_eq,(.32,.26),fontsize=15,color=\"blue\")\n",
    "\n",
    "#Set plot points and plot the scatter\n",
    "plt.xlabel('Generosity')\n",
    "plt.ylabel('Corruption')\n",
    "plt.title('Corruption vs Generosity 2019')\n",
    "plt.scatter(x_axis,y_axis)"
   ]
  },
  {
   "cell_type": "code",
   "execution_count": 23,
   "metadata": {},
   "outputs": [
    {
     "data": {
      "text/plain": [
       "<matplotlib.collections.PathCollection at 0x1767bc705c0>"
      ]
     },
     "execution_count": 23,
     "metadata": {},
     "output_type": "execute_result"
    },
    {
     "data": {
      "image/png": "[encoded data removed]",
      "text/plain": [
       "<Figure size 432x288 with 1 Axes>"
      ]
     },
     "metadata": {
      "needs_background": "light"
     },
     "output_type": "display_data"
    }
   ],
   "source": [
    "x_axis = generosity['Generosity2020']\n",
    "y_axis = corruption['Corruption2020']\n",
    "(slope, intercept, rvalue, pvalue, stderr) = stats.linregress(x_axis, y_axis)\n",
    "regress_values = x_axis * slope + intercept\n",
    "# build linear equation\n",
    "line_eq = \"y = \" + str(round(slope,2)) + \"x + \" + str(round(intercept,2))\n",
    "plt.plot(x_axis,regress_values,\"r-\")\n",
    "plt.annotate(line_eq,(.32,.26),fontsize=15,color=\"blue\")\n",
    "\n",
    "#Set plot points and plot the scatter\n",
    "plt.xlabel('Generosity')\n",
    "plt.ylabel('Corruption')\n",
    "plt.title('Corruption vs Generosity 2020')\n",
    "plt.scatter(x_axis,y_axis)"
   ]
  },
  {
   "cell_type": "code",
   "execution_count": 18,
   "metadata": {},
   "outputs": [
    {
     "data": {
      "text/plain": [
       "<matplotlib.collections.PathCollection at 0x1767ba9b4a8>"
      ]
     },
     "execution_count": 18,
     "metadata": {},
     "output_type": "execute_result"
    },
    {
     "data": {
      "image/png": "[encoded data removed]",
      "text/plain": [
       "<Figure size 432x288 with 1 Axes>"
      ]
     },
     "metadata": {
      "needs_background": "light"
     },
     "output_type": "display_data"
    }
   ],
   "source": [
    "x_axis = generosity['Generosity2021']\n",
    "y_axis = corruption['Corruption2021']\n",
    "(slope, intercept, rvalue, pvalue, stderr) = stats.linregress(x_axis, y_axis)\n",
    "regress_values = x_axis * slope + intercept\n",
    "# build linear equation\n",
    "line_eq = \"y = \" + str(round(slope,2)) + \"x + \" + str(round(intercept,2))\n",
    "plt.plot(x_axis,regress_values,\"r-\")\n",
    "plt.annotate(line_eq,(.32,.34),fontsize=15,color=\"blue\")\n",
    "\n",
    "#Set plot points and plot the scatter\n",
    "plt.xlabel('Generosity')\n",
    "plt.ylabel('Corruption')\n",
    "plt.title('Corruption vs Generosity 2021')\n",
    "plt.scatter(x_axis,y_axis)"
   ]
  },
  {
   "cell_type": "code",
   "execution_count": 15,
   "metadata": {},
   "outputs": [
    {
     "data": {
      "text/plain": [
       "<matplotlib.collections.PathCollection at 0x1767b706860>"
      ]
     },
     "execution_count": 15,
     "metadata": {},
     "output_type": "execute_result"
    },
    {
     "data": {
      "image/png": "[encoded data removed]",
      "text/plain": [
       "<Figure size 432x288 with 1 Axes>"
      ]
     },
     "metadata": {
      "needs_background": "light"
     },
     "output_type": "display_data"
    }
   ],
   "source": [
    "(slope, intercept, rvalue, pvalue, stderr) = stats.linregress(x_axis, y_axis)\n",
    "regress_values = x_axis * slope + intercept\n",
    "# build linear equation\n",
    "line_eq = \"y = \" + str(round(slope,2)) + \"x + \" + str(round(intercept,2))\n",
    "plt.plot(x_axis,regress_values,\"r-\")\n",
    "plt.annotate(line_eq,(.4,.34),fontsize=15,color=\"blue\")\n",
    "\n",
    "\n",
    "x_axis = generosityavg\n",
    "y_axis = corruptionavg\n",
    "plt.xlabel('Happiness')\n",
    "plt.ylabel('Corruption')\n",
    "plt.title('Avg Corruption vs Avg Happiness')\n",
    "plt.scatter(x_axis,y_axis)\n",
    "\n"
   ]
  }
 ],
 "metadata": {
  "kernelspec": {
   "display_name": "Python [conda env:PythonData] *",
   "language": "python",
   "name": "conda-env-PythonData-py"
  },
  "language_info": {
   "codemirror_mode": {
    "name": "ipython",
    "version": 3
   },
   "file_extension": ".py",
   "mimetype": "text/x-python",
   "name": "python",
   "nbconvert_exporter": "python",
   "pygments_lexer": "ipython3",
   "version": "3.6.10"
  }
 },
 "nbformat": 4,
 "nbformat_minor": 4
}
